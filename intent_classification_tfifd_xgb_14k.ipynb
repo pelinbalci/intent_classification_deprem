{
  "nbformat": 4,
  "nbformat_minor": 0,
  "metadata": {
    "colab": {
      "provenance": [],
      "authorship_tag": "ABX9TyPx/YXr28DMEuW1zrPM1fLm",
      "include_colab_link": true
    },
    "kernelspec": {
      "name": "python3",
      "display_name": "Python 3"
    },
    "language_info": {
      "name": "python"
    }
  },
  "cells": [
    {
      "cell_type": "markdown",
      "metadata": {
        "id": "view-in-github",
        "colab_type": "text"
      },
      "source": [
        "<a href=\"https://colab.research.google.com/github/pelinbalci/intent_classification_deprem/blob/master/intent_classification_tfifd_xgb_14k.ipynb\" target=\"_parent\"><img src=\"https://colab.research.google.com/assets/colab-badge.svg\" alt=\"Open In Colab\"/></a>"
      ]
    },
    {
      "cell_type": "markdown",
      "source": [
        "## İçerik Sınıflandırma\n",
        "\n",
        "**Data:** 10140 tutarlı etiketlenen tweet.\n",
        "\n",
        "**Referans:** \n",
        "- https://www.kaggle.com/code/kobakhit/eda-and-multi-label-classification-for-arxiv [1]\n",
        "- http://scikit.ml/_modules/skmultilearn/model_selection/iterative_stratification.html [2]\n",
        "\n",
        "Fonksiyonlar ve pipeline'ın büyük kısmı [1]  nolu referanstan kopyalanmıştır. \n",
        " \n",
        "**Not:** Xgboost versiyon farklılığında şu error alınıyor: \"predict_proba() got an unexpected keyword argument 'X'\"   Hata almamak için version 1.3.3 yüklenmeli.\n",
        "\n",
        "**İyileştirme noktaları:** \n",
        "- Xgboost için hyperparam tuning yapılmadı. Yalnızca scale_pos_weight denemeleri yapıldı. \n",
        "- IterativeStratification random selection yapıyor, random_state eklendiğinde\n",
        " hata veriyor.\n",
        "\n",
        " **Sonuç:**\n",
        " Farklı modellerden benzer sonuçlar alınmıştır. "
      ],
      "metadata": {
        "id": "ZhacI97__xrh"
      }
    },
    {
      "cell_type": "markdown",
      "source": [
        "## Intent Classification\n",
        "\n",
        "**Data:** 14562 consistent labeled tweet\n",
        "\n",
        "**References:** \n",
        "- https://www.kaggle.com/code/kobakhit/eda-and-multi-label-classification-for-arxiv [1]\n",
        "- http://scikit.ml/_modules/skmultilearn/model_selection/iterative_stratification.html [2]\n",
        "\n",
        "Fucntions and most of the pipeline are copied from [1].\n",
        " \n",
        "**Note:** There is an error when the Xgboost version is different \"predict_proba() got an unexpected keyword argument 'X'\"   Please install version 1.3.3\n",
        "\n",
        "**Future works:** \n",
        "- Hyperparam tuning for Xgboost may help. Only scale_pos_weight has been tried.\n",
        "- IterativeStratification splits the data randomly and it gives error when ranndom_state is added.\n",
        "\n",
        "**Result:**\n",
        "Similar results are obtained from different models."
      ],
      "metadata": {
        "id": "-g48GmKddgpF"
      }
    },
    {
      "cell_type": "markdown",
      "source": [
        "### Import Libraries"
      ],
      "metadata": {
        "id": "gC5Y_oTCB5WB"
      }
    },
    {
      "cell_type": "code",
      "source": [
        "!pip install scikit-multilearn\n",
        "!pip install xgboost==1.3.3"
      ],
      "metadata": {
        "colab": {
          "base_uri": "https://localhost:8080/"
        },
        "id": "Kh0UlAVeFgAc",
        "outputId": "63a742a1-72c8-40b7-ddc1-824e9c82cd03"
      },
      "execution_count": 1,
      "outputs": [
        {
          "output_type": "stream",
          "name": "stdout",
          "text": [
            "Looking in indexes: https://pypi.org/simple, https://us-python.pkg.dev/colab-wheels/public/simple/\n",
            "Requirement already satisfied: scikit-multilearn in /usr/local/lib/python3.8/dist-packages (0.2.0)\n",
            "Looking in indexes: https://pypi.org/simple, https://us-python.pkg.dev/colab-wheels/public/simple/\n",
            "Requirement already satisfied: xgboost==1.3.3 in /usr/local/lib/python3.8/dist-packages (1.3.3)\n",
            "Requirement already satisfied: scipy in /usr/local/lib/python3.8/dist-packages (from xgboost==1.3.3) (1.7.3)\n",
            "Requirement already satisfied: numpy in /usr/local/lib/python3.8/dist-packages (from xgboost==1.3.3) (1.21.6)\n"
          ]
        }
      ]
    },
    {
      "cell_type": "code",
      "source": [
        "import json\n",
        "from matplotlib import pyplot as plt\n",
        "import pandas as pd\n",
        "from sklearn.model_selection import train_test_split\n",
        "from sklearn.feature_extraction.text import TfidfVectorizer\n",
        "from sklearn.decomposition import PCA\n",
        "from sklearn.multiclass import OneVsRestClassifier\n",
        "from sklearn.svm import LinearSVC\n",
        "from sklearn.pipeline import Pipeline\n",
        "from sklearn.metrics import accuracy_score, roc_curve, auc, hamming_loss\n",
        "from sklearn.preprocessing import MultiLabelBinarizer\n",
        "from skmultilearn.model_selection import IterativeStratification\n",
        "from sklearn.calibration import CalibratedClassifierCV\n",
        "import numpy as np\n",
        "from sklearn.metrics import classification_report\n",
        "from xgboost import XGBClassifier\n",
        "from sklearn.naive_bayes import GaussianNB\n",
        "import xgboost as xgb\n",
        "from sklearn.tree import DecisionTreeClassifier\n",
        "from sklearn.model_selection import train_test_split\n",
        "from collections import Counter\n",
        "import warnings\n",
        "warnings.filterwarnings('ignore')"
      ],
      "metadata": {
        "id": "QbYWWdlYAF-C"
      },
      "execution_count": 2,
      "outputs": []
    },
    {
      "cell_type": "markdown",
      "source": [
        "### Helper Functions"
      ],
      "metadata": {
        "id": "TB-i5JwrB71g"
      }
    },
    {
      "cell_type": "code",
      "source": [
        "# Helper Fucntions\n",
        "# Label based accuracy\n",
        "def hamming_score(y_true, y_pred, normalize=True, sample_weight=None):\n",
        "    '''\n",
        "    Compute the Hamming score (a.k.a. label-based accuracy) for the multi-label case\n",
        "    http://stackoverflow.com/q/32239577/395857\n",
        "    '''\n",
        "    acc_list = []\n",
        "    for i in range(y_true.shape[0]):\n",
        "        set_true = set(np.where(y_true[i])[0])\n",
        "        set_pred = set(np.where(y_pred[i])[0])\n",
        "        tmp_a = None\n",
        "        if len(set_true) == 0 and len(set_pred) == 0:\n",
        "            tmp_a = 1\n",
        "        else:\n",
        "            tmp_a = len(set_true.intersection(set_pred))/\\\n",
        "                    float(len(set_true.union(set_pred)) )\n",
        "        acc_list.append(tmp_a)\n",
        "    return np.mean(acc_list), acc_list\n",
        "\n",
        "def predict_tags(X, models, labels=None):\n",
        "    '''\n",
        "    Predict tags for a given abstract.\n",
        "\n",
        "    Args:\n",
        "      - X (list): an iterable with text.\n",
        "      - labels (pandas.Dataframe): label indicators for an abstract\n",
        "    '''\n",
        "    preds = []\n",
        "    if type(X) is str:  # convert into iterable if string\n",
        "        X = [X]\n",
        "\n",
        "    # get prediction from each model\n",
        "    for c in models.keys():\n",
        "        preds.append(models[c].predict(X))\n",
        "\n",
        "    # print original labels if given\n",
        "    if labels is not None:\n",
        "        assert len(X) == 1, 'Only one extract at a time.'\n",
        "        predicted_tags = [k for k, v in zip(list(models.keys()), preds) if v[0] > 0]\n",
        "        original_tags = list(labels.index[labels.map(lambda x: x > 0)])\n",
        "        print('Original Tags: {}'.format(str(original_tags)))\n",
        "        print(\"Predicted Tags: {}\".format(str(predicted_tags)))\n",
        "\n",
        "    return preds"
      ],
      "metadata": {
        "id": "cqHc7OIqARlr"
      },
      "execution_count": 3,
      "outputs": []
    },
    {
      "cell_type": "markdown",
      "source": [
        "### Read Data"
      ],
      "metadata": {
        "id": "Y4KPyH8oCCR-"
      }
    },
    {
      "cell_type": "code",
      "source": [
        "# Read Data\n",
        "data_10140 = 'full-10140-labeled-gigantic-bandicoot.jsonl'\n",
        "data_14562 = 'full-14562-labeled-woodoo-chimpanzee.jsonl'\n",
        "with open(data_14562, 'r') as json_file:\n",
        "    json_list = list(json_file)\n",
        "\n",
        "tutarli = {}\n",
        "for i in range(len(json_list)):\n",
        "    j_d = json.loads(json_list[i])\n",
        "    tutarli[i] = j_d"
      ],
      "metadata": {
        "id": "N6JvglWuAD7P"
      },
      "execution_count": 4,
      "outputs": []
    },
    {
      "cell_type": "code",
      "source": [
        "len(tutarli)"
      ],
      "metadata": {
        "colab": {
          "base_uri": "https://localhost:8080/"
        },
        "id": "bwK43WHlUavP",
        "outputId": "dabe6a24-5faf-48b4-ef4b-aabaaac5a084"
      },
      "execution_count": 5,
      "outputs": [
        {
          "output_type": "execute_result",
          "data": {
            "text/plain": [
              "14562"
            ]
          },
          "metadata": {},
          "execution_count": 5
        }
      ]
    },
    {
      "cell_type": "code",
      "source": [
        "# Label distribution\n",
        "tutarli_labels = []\n",
        "for i in list(tutarli.keys()):\n",
        "    tutarli_labels.append(tutarli[i]['label'])\n",
        "\n",
        "# list of list to list\n",
        "tutarli_labels_2 = [item for sub in tutarli_labels for item in sub]\n",
        "\n",
        "# All Labels\n",
        "etiketler = [\"Arama Ekipmani\", \"Enkaz Kaldirma\", \"Isinma\", \"Elektrik Kaynagi\", \"Giysi\", \"Yemek\", \"Su\",\n",
        "             \"Barınma\", \"Saglik\", \"Lojistik\", \"Tuvalet\", \"Alakasiz\", \"Cenaze\"]\n",
        "\n",
        "etiket_count = {}\n",
        "for et in etiketler:\n",
        "    etiket_count[et] = tutarli_labels_2.count(et)\n",
        "print(etiket_count)"
      ],
      "metadata": {
        "colab": {
          "base_uri": "https://localhost:8080/"
        },
        "id": "UFTyShlNBwhC",
        "outputId": "efddcf4a-6746-48b2-c39a-d17ac4cd9ecc"
      },
      "execution_count": 6,
      "outputs": [
        {
          "output_type": "stream",
          "name": "stdout",
          "text": [
            "{'Arama Ekipmani': 833, 'Enkaz Kaldirma': 6436, 'Isinma': 1342, 'Elektrik Kaynagi': 499, 'Giysi': 1088, 'Yemek': 1616, 'Su': 437, 'Barınma': 3617, 'Saglik': 882, 'Lojistik': 280, 'Tuvalet': 67, 'Alakasiz': 2617, 'Cenaze': 24}\n"
          ]
        }
      ]
    },
    {
      "cell_type": "code",
      "source": [
        "# Label distribution plot\n",
        "fig = plt.figure()\n",
        "plt.bar(etiket_count.keys(), etiket_count.values(), color='g')\n",
        "plt.xticks(rotation=90)\n",
        "plt.title('Etiket Dagilimi')\n",
        "fig.tight_layout()\n",
        "# plt.savefig('etiket_count.png')"
      ],
      "metadata": {
        "colab": {
          "base_uri": "https://localhost:8080/",
          "height": 297
        },
        "id": "b6Mj8nmiBxuV",
        "outputId": "028120bb-4ff0-48c3-e8da-cef858cf830e"
      },
      "execution_count": 7,
      "outputs": [
        {
          "output_type": "display_data",
          "data": {
            "text/plain": [
              "<Figure size 432x288 with 1 Axes>"
            ],
            "image/png": "[encoded data removed]"
          },
          "metadata": {
            "needs_background": "light"
          }
        }
      ]
    },
    {
      "cell_type": "markdown",
      "source": [
        "### Preprocess\n",
        "Alakasizlar çıkarılır.\n",
        "\n",
        "Remove tag: \"unrelated\".\n"
      ],
      "metadata": {
        "id": "PFhq4cs9CIs2"
      }
    },
    {
      "cell_type": "code",
      "source": [
        "df = pd.DataFrame.from_dict(tutarli).T\n",
        "mask = df.label.apply(lambda x: 'Alakasiz' not in x)\n",
        "df = df[mask]\n",
        "df = df.reset_index()\n",
        "df['index'] = list(range(0, len(df)))\n",
        "df.drop('index', axis=1, inplace=True)\n",
        "\n",
        "print(len(df))"
      ],
      "metadata": {
        "id": "r0Sdfh3wCN6e",
        "colab": {
          "base_uri": "https://localhost:8080/"
        },
        "outputId": "741d46e7-fbb7-4db5-8b5e-c17e11c6353b"
      },
      "execution_count": 8,
      "outputs": [
        {
          "output_type": "stream",
          "name": "stdout",
          "text": [
            "11945\n"
          ]
        }
      ]
    },
    {
      "cell_type": "code",
      "source": [
        "mlb = MultiLabelBinarizer()\n",
        "mlb_labels = mlb.fit_transform(df.label)\n",
        "\n",
        "# Add labels to df\n",
        "df_2 = pd.concat([df, pd.DataFrame(mlb_labels)], axis=1)\n",
        "df_2.columns = ['image_url', 'label', 'label_confidence', 'labeler', 'label_creation_time'] + list(mlb.classes_)"
      ],
      "metadata": {
        "id": "00qssRqIj_82"
      },
      "execution_count": 9,
      "outputs": []
    },
    {
      "cell_type": "code",
      "source": [
        "# control categories\n",
        "categories = df_2.columns[5:]\n",
        "categories"
      ],
      "metadata": {
        "colab": {
          "base_uri": "https://localhost:8080/"
        },
        "id": "j51sf4P3kPYW",
        "outputId": "746f06e4-0ea5-481a-c307-b37ee27361d9"
      },
      "execution_count": 10,
      "outputs": [
        {
          "output_type": "execute_result",
          "data": {
            "text/plain": [
              "Index(['Arama Ekipmani', 'Barınma', 'Cenaze', 'Elektrik Kaynagi',\n",
              "       'Enkaz Kaldirma', 'Giysi', 'Isinma', 'Lojistik', 'Saglik', 'Su',\n",
              "       'Tuvalet', 'Yemek'],\n",
              "      dtype='object')"
            ]
          },
          "metadata": {},
          "execution_count": 10
        }
      ]
    },
    {
      "cell_type": "markdown",
      "source": [
        "### Train - Test Split "
      ],
      "metadata": {
        "id": "oTjMo76TCFKB"
      }
    },
    {
      "cell_type": "code",
      "source": [
        "# RANDOM SELECTION\n",
        "trainidx, testidx = list(IterativeStratification(n_splits=10, order=1).split(X=mlb_labels, y=mlb_labels))[0]\n",
        "print(list(trainidx))\n",
        "print(list(testidx))"
      ],
      "metadata": {
        "colab": {
          "base_uri": "https://localhost:8080/"
        },
        "id": "8nP7QCHwCHXy",
        "outputId": "3ba3f507-9a49-4b6d-9f4e-a9891c67ea8d"
      },
      "execution_count": 11,
      "outputs": [
        {
          "output_type": "stream",
          "name": "stdout",
          "text": [
            "[0, 1, 2, 3, 4, 5, 6, 7, 8, 9, 10, 11, 13, 15, 16, 17, 18, 19, 20, 21, 22, 23, 24, 25, 26, 27, 29, 30, 31, 32, 33, 34, 35, 37, 38, 39, 40, 41, 42, 44, 45, 46, 47, 48, 49, 50, 51, 52, 53, 54, 55, 56, 57, 58, 59, 60, 61, 62, 64, 65, 66, 67, 68, 69, 70, 71, 72, 73, 74, 75, 76, 77, 79, 80, 81, 83, 84, 85, 87, 88, 89, 90, 91, 92, 93, 94, 95, 96, 97, 98, 99, 100, 101, 102, 103, 104, 105, 106, 107, 108, 109, 110, 111, 112, 114, 115, 116, 117, 118, 119, 120, 121, 122, 123, 125, 126, 127, 129, 131, 132, 133, 134, 135, 136, 137, 138, 139, 140, 141, 142, 143, 144, 145, 146, 147, 148, 149, 151, 152, 153, 154, 155, 156, 157, 158, 159, 160, 161, 162, 163, 164, 166, 167, 168, 169, 170, 172, 173, 174, 175, 176, 177, 178, 180, 181, 182, 183, 184, 185, 186, 187, 188, 189, 190, 191, 192, 193, 194, 195, 196, 197, 198, 199, 200, 202, 203, 205, 206, 207, 208, 209, 210, 211, 212, 213, 214, 216, 217, 218, 219, 220, 221, 222, 223, 224, 225, 226, 227, 228, 229, 230, 231, 233, 234, 235, 237, 238, 239, 240, 242, 243, 244, 245, 246, 248, 249, 250, 251, 252, 253, 254, 255, 256, 257, 258, 259, 260, 262, 263, 264, 265, 266, 267, 268, 270, 271, 272, 273, 274, 275, 276, 277, 278, 279, 280, 281, 282, 283, 284, 286, 287, 288, 289, 290, 292, 293, 294, 295, 296, 297, 298, 299, 300, 301, 302, 303, 304, 305, 306, 307, 309, 311, 312, 313, 314, 315, 316, 317, 318, 319, 320, 321, 322, 323, 324, 327, 328, 329, 330, 331, 332, 333, 334, 336, 338, 339, 340, 341, 342, 343, 344, 345, 346, 347, 348, 349, 350, 351, 352, 353, 354, 355, 356, 358, 359, 360, 361, 362, 364, 365, 366, 367, 368, 369, 370, 371, 372, 373, 374, 375, 376, 377, 378, 380, 381, 383, 384, 386, 387, 388, 389, 390, 391, 392, 394, 395, 396, 397, 398, 399, 400, 401, 402, 403, 404, 405, 406, 407, 408, 409, 410, 411, 412, 413, 415, 416, 417, 418, 419, 420, 421, 422, 423, 424, 425, 426, 427, 428, 429, 430, 431, 432, 434, 435, 437, 438, 439, 440, 441, 442, 443, 445, 446, 447, 448, 449, 450, 451, 452, 453, 454, 455, 456, 457, 458, 459, 460, 461, 462, 463, 465, 466, 467, 468, 469, 470, 471, 472, 473, 474, 475, 476, 477, 478, 479, 480, 482, 483, 484, 485, 486, 487, 488, 489, 490, 491, 492, 494, 495, 496, 497, 499, 501, 502, 504, 505, 506, 507, 508, 509, 510, 511, 512, 513, 514, 515, 516, 517, 518, 519, 520, 521, 523, 524, 526, 528, 529, 530, 531, 532, 533, 534, 535, 536, 537, 538, 539, 540, 541, 542, 543, 545, 546, 547, 548, 549, 550, 551, 552, 553, 554, 555, 556, 557, 558, 559, 561, 562, 563, 564, 565, 566, 567, 568, 569, 570, 571, 572, 573, 576, 577, 579, 580, 581, 582, 583, 584, 585, 586, 587, 588, 589, 591, 593, 594, 595, 596, 597, 598, 599, 600, 601, 602, 603, 604, 605, 606, 607, 608, 609, 610, 611, 612, 613, 614, 615, 617, 618, 619, 620, 621, 622, 624, 625, 626, 627, 628, 629, 630, 631, 632, 633, 634, 635, 636, 637, 638, 639, 640, 641, 642, 643, 644, 646, 647, 648, 649, 650, 652, 653, 654, 655, 656, 657, 658, 659, 660, 662, 664, 665, 666, 668, 669, 670, 671, 672, 673, 674, 675, 676, 677, 678, 679, 680, 681, 682, 683, 685, 686, 687, 688, 689, 690, 691, 692, 693, 694, 695, 696, 697, 698, 700, 701, 702, 703, 704, 705, 706, 707, 708, 710, 712, 713, 714, 715, 716, 717, 718, 719, 721, 722, 723, 724, 725, 726, 727, 728, 729, 730, 731, 732, 734, 735, 736, 738, 739, 740, 741, 742, 743, 744, 745, 747, 748, 749, 750, 751, 752, 753, 754, 755, 756, 757, 758, 759, 760, 761, 762, 764, 765, 766, 767, 768, 769, 770, 771, 772, 773, 774, 775, 776, 777, 778, 779, 781, 782, 783, 784, 785, 786, 787, 788, 789, 790, 791, 792, 793, 794, 796, 797, 798, 799, 801, 802, 803, 804, 805, 806, 807, 808, 809, 810, 811, 812, 813, 815, 816, 818, 819, 821, 822, 823, 824, 825, 826, 827, 828, 829, 830, 831, 832, 833, 834, 835, 836, 837, 838, 839, 840, 842, 843, 844, 845, 846, 847, 848, 849, 850, 851, 852, 855, 856, 857, 858, 860, 861, 862, 863, 864, 865, 866, 867, 868, 869, 871, 872, 873, 874, 875, 876, 877, 878, 879, 880, 881, 882, 883, 884, 885, 886, 887, 888, 889, 890, 892, 893, 894, 895, 896, 897, 899, 900, 901, 902, 903, 904, 905, 907, 908, 909, 910, 911, 912, 913, 914, 915, 916, 917, 918, 919, 920, 921, 923, 924, 925, 926, 927, 928, 929, 930, 933, 934, 936, 937, 938, 939, 940, 941, 942, 943, 944, 945, 946, 947, 948, 949, 950, 951, 952, 953, 954, 955, 956, 957, 958, 959, 960, 961, 962, 963, 964, 965, 966, 967, 968, 969, 971, 972, 974, 975, 976, 977, 978, 979, 980, 981, 982, 983, 985, 986, 987, 988, 989, 990, 991, 992, 993, 994, 995, 996, 997, 998, 999, 1000, 1001, 1003, 1004, 1005, 1007, 1008, 1009, 1010, 1012, 1013, 1014, 1015, 1016, 1017, 1018, 1019, 1020, 1021, 1022, 1023, 1024, 1025, 1027, 1028, 1029, 1030, 1031, 1032, 1033, 1034, 1035, 1036, 1037, 1038, 1039, 1040, 1041, 1042, 1044, 1045, 1046, 1048, 1049, 1050, 1051, 1053, 1054, 1055, 1056, 1057, 1058, 1059, 1060, 1061, 1063, 1064, 1065, 1067, 1068, 1069, 1070, 1071, 1073, 1074, 1075, 1076, 1077, 1078, 1079, 1080, 1082, 1083, 1084, 1085, 1086, 1087, 1088, 1089, 1090, 1091, 1092, 1093, 1094, 1096, 1097, 1098, 1099, 1100, 1101, 1102, 1103, 1104, 1105, 1106, 1107, 1109, 1110, 1111, 1112, 1113, 1114, 1115, 1116, 1117, 1118, 1119, 1120, 1121, 1122, 1123, 1124, 1125, 1126, 1127, 1128, 1129, 1130, 1131, 1132, 1133, 1134, 1136, 1139, 1140, 1141, 1142, 1143, 1144, 1145, 1146, 1147, 1148, 1149, 1150, 1151, 1152, 1153, 1154, 1155, 1156, 1157, 1158, 1159, 1160, 1162, 1163, 1164, 1165, 1166, 1167, 1168, 1169, 1170, 1172, 1173, 1174, 1175, 1176, 1177, 1179, 1180, 1181, 1182, 1183, 1184, 1185, 1186, 1187, 1188, 1189, 1190, 1191, 1192, 1193, 1194, 1195, 1196, 1197, 1199, 1200, 1201, 1202, 1203, 1204, 1205, 1206, 1207, 1210, 1211, 1212, 1213, 1214, 1217, 1218, 1219, 1220, 1221, 1222, 1223, 1224, 1225, 1226, 1227, 1228, 1229, 1230, 1231, 1232, 1233, 1234, 1235, 1236, 1238, 1239, 1240, 1241, 1242, 1243, 1244, 1245, 1246, 1247, 1248, 1249, 1251, 1252, 1253, 1254, 1255, 1256, 1257, 1258, 1259, 1260, 1262, 1263, 1264, 1265, 1266, 1267, 1268, 1269, 1270, 1271, 1272, 1274, 1275, 1277, 1278, 1279, 1280, 1281, 1282, 1283, 1284, 1285, 1286, 1287, 1288, 1289, 1290, 1291, 1292, 1293, 1294, 1295, 1296, 1297, 1298, 1299, 1300, 1303, 1304, 1305, 1306, 1307, 1308, 1309, 1310, 1311, 1312, 1313, 1314, 1315, 1316, 1317, 1318, 1319, 1320, 1321, 1322, 1323, 1324, 1325, 1326, 1327, 1329, 1330, 1331, 1332, 1333, 1335, 1336, 1337, 1338, 1339, 1340, 1341, 1342, 1343, 1344, 1345, 1346, 1347, 1349, 1350, 1351, 1352, 1353, 1355, 1356, 1357, 1358, 1359, 1360, 1361, 1362, 1363, 1364, 1365, 1366, 1367, 1368, 1369, 1371, 1372, 1373, 1375, 1376, 1377, 1378, 1379, 1380, 1381, 1382, 1383, 1384, 1385, 1386, 1387, 1388, 1389, 1390, 1391, 1392, 1393, 1395, 1396, 1397, 1398, 1399, 1400, 1401, 1402, 1404, 1405, 1406, 1408, 1409, 1411, 1412, 1413, 1414, 1415, 1416, 1417, 1418, 1421, 1422, 1423, 1424, 1425, 1426, 1427, 1428, 1430, 1431, 1433, 1434, 1435, 1436, 1437, 1438, 1439, 1440, 1441, 1442, 1443, 1444, 1445, 1446, 1447, 1448, 1449, 1450, 1451, 1452, 1453, 1454, 1455, 1457, 1458, 1459, 1460, 1461, 1462, 1463, 1464, 1465, 1466, 1467, 1468, 1469, 1470, 1471, 1472, 1473, 1474, 1476, 1478, 1479, 1480, 1481, 1482, 1484, 1485, 1486, 1487, 1488, 1490, 1491, 1492, 1493, 1494, 1496, 1497, 1499, 1500, 1501, 1502, 1503, 1504, 1505, 1506, 1507, 1508, 1509, 1510, 1511, 1512, 1513, 1514, 1516, 1517, 1518, 1519, 1520, 1521, 1522, 1523, 1525, 1526, 1527, 1528, 1529, 1530, 1531, 1532, 1533, 1534, 1536, 1537, 1538, 1539, 1540, 1541, 1542, 1543, 1544, 1545, 1546, 1547, 1548, 1549, 1550, 1551, 1552, 1554, 1555, 1556, 1557, 1559, 1560, 1561, 1563, 1564, 1565, 1566, 1567, 1568, 1569, 1570, 1571, 1572, 1573, 1574, 1575, 1576, 1577, 1578, 1579, 1580, 1581, 1582, 1583, 1584, 1585, 1588, 1589, 1590, 1591, 1593, 1594, 1595, 1596, 1597, 1598, 1599, 1600, 1601, 1602, 1603, 1604, 1605, 1606, 1607, 1609, 1610, 1611, 1612, 1613, 1614, 1616, 1617, 1618, 1619, 1620, 1621, 1622, 1623, 1625, 1626, 1627, 1628, 1629, 1630, 1631, 1632, 1633, 1634, 1635, 1636, 1637, 1638, 1640, 1642, 1644, 1645, 1646, 1647, 1648, 1649, 1650, 1651, 1652, 1653, 1654, 1655, 1656, 1657, 1658, 1659, 1660, 1661, 1662, 1663, 1664, 1665, 1666, 1667, 1668, 1669, 1670, 1673, 1674, 1675, 1676, 1677, 1678, 1679, 1680, 1682, 1683, 1684, 1685, 1687, 1688, 1689, 1690, 1691, 1692, 1693, 1694, 1695, 1696, 1697, 1698, 1699, 1700, 1701, 1702, 1703, 1704, 1705, 1706, 1707, 1708, 1710, 1711, 1712, 1714, 1715, 1716, 1717, 1718, 1719, 1720, 1721, 1722, 1723, 1724, 1725, 1726, 1727, 1728, 1729, 1731, 1732, 1733, 1734, 1735, 1736, 1737, 1738, 1739, 1740, 1741, 1742, 1743, 1745, 1746, 1747, 1748, 1749, 1750, 1751, 1752, 1754, 1755, 1756, 1757, 1758, 1759, 1760, 1762, 1763, 1764, 1765, 1766, 1768, 1769, 1770, 1771, 1772, 1773, 1774, 1775, 1776, 1777, 1778, 1779, 1780, 1781, 1783, 1784, 1785, 1786, 1787, 1789, 1790, 1791, 1792, 1793, 1794, 1795, 1796, 1797, 1800, 1801, 1802, 1803, 1804, 1805, 1806, 1807, 1808, 1809, 1810, 1811, 1812, 1813, 1814, 1815, 1816, 1817, 1818, 1819, 1820, 1821, 1822, 1823, 1824, 1825, 1826, 1827, 1828, 1830, 1831, 1832, 1833, 1835, 1836, 1837, 1838, 1839, 1840, 1841, 1842, 1843, 1845, 1846, 1847, 1849, 1850, 1851, 1852, 1853, 1855, 1856, 1857, 1858, 1859, 1860, 1861, 1862, 1863, 1864, 1865, 1866, 1867, 1868, 1870, 1871, 1872, 1873, 1874, 1875, 1876, 1877, 1878, 1879, 1880, 1882, 1883, 1885, 1886, 1887, 1888, 1889, 1890, 1891, 1892, 1893, 1894, 1895, 1896, 1897, 1898, 1899, 1900, 1901, 1902, 1903, 1904, 1905, 1906, 1907, 1909, 1910, 1911, 1912, 1913, 1915, 1916, 1917, 1918, 1919, 1920, 1922, 1923, 1924, 1925, 1927, 1928, 1929, 1930, 1931, 1932, 1933, 1934, 1935, 1936, 1937, 1938, 1939, 1940, 1942, 1943, 1944, 1945, 1946, 1947, 1948, 1949, 1950, 1951, 1953, 1954, 1955, 1956, 1957, 1958, 1959, 1960, 1961, 1962, 1963, 1964, 1965, 1966, 1967, 1968, 1969, 1970, 1972, 1975, 1976, 1977, 1978, 1979, 1980, 1981, 1982, 1983, 1984, 1986, 1987, 1988, 1989, 1990, 1991, 1992, 1993, 1994, 1995, 1996, 1997, 1998, 1999, 2000, 2001, 2002, 2003, 2004, 2006, 2007, 2008, 2009, 2010, 2011, 2012, 2013, 2014, 2015, 2016, 2017, 2018, 2019, 2021, 2022, 2024, 2025, 2026, 2028, 2029, 2030, 2031, 2032, 2033, 2034, 2035, 2037, 2038, 2039, 2040, 2041, 2042, 2043, 2044, 2045, 2046, 2047, 2048, 2049, 2050, 2051, 2053, 2054, 2055, 2056, 2057, 2058, 2059, 2060, 2061, 2062, 2063, 2064, 2065, 2066, 2068, 2069, 2070, 2071, 2072, 2073, 2074, 2075, 2076, 2077, 2078, 2079, 2080, 2081, 2082, 2084, 2085, 2086, 2087, 2088, 2089, 2090, 2091, 2092, 2093, 2095, 2096, 2097, 2098, 2099, 2100, 2101, 2102, 2103, 2104, 2105, 2106, 2109, 2110, 2111, 2112, 2113, 2114, 2115, 2116, 2117, 2119, 2120, 2121, 2122, 2123, 2124, 2125, 2126, 2127, 2128, 2129, 2130, 2131, 2132, 2133, 2134, 2135, 2137, 2138, 2139, 2141, 2142, 2143, 2144, 2145, 2146, 2147, 2148, 2149, 2150, 2151, 2152, 2153, 2155, 2156, 2157, 2158, 2159, 2160, 2161, 2162, 2164, 2165, 2166, 2167, 2168, 2169, 2170, 2171, 2172, 2173, 2174, 2176, 2177, 2179, 2180, 2181, 2182, 2184, 2185, 2186, 2187, 2188, 2189, 2190, 2191, 2192, 2193, 2194, 2195, 2196, 2197, 2198, 2199, 2200, 2201, 2202, 2203, 2204, 2205, 2206, 2207, 2208, 2210, 2212, 2213, 2214, 2215, 2216, 2217, 2218, 2219, 2220, 2222, 2223, 2224, 2226, 2227, 2228, 2229, 2231, 2232, 2233, 2234, 2235, 2236, 2237, 2238, 2239, 2240, 2241, 2242, 2244, 2245, 2246, 2247, 2248, 2249, 2250, 2251, 2252, 2253, 2254, 2255, 2256, 2257, 2258, 2259, 2260, 2262, 2263, 2264, 2265, 2266, 2267, 2268, 2269, 2270, 2271, 2274, 2275, 2276, 2277, 2278, 2279, 2280, 2281, 2282, 2283, 2284, 2285, 2286, 2287, 2288, 2289, 2290, 2291, 2292, 2293, 2294, 2295, 2296, 2297, 2299, 2300, 2301, 2302, 2303, 2304, 2305, 2306, 2309, 2310, 2311, 2312, 2313, 2314, 2315, 2316, 2317, 2318, 2319, 2320, 2321, 2322, 2323, 2324, 2326, 2327, 2329, 2330, 2331, 2332, 2333, 2334, 2335, 2336, 2337, 2338, 2339, 2340, 2341, 2342, 2343, 2344, 2345, 2346, 2347, 2348, 2349, 2350, 2352, 2353, 2354, 2357, 2358, 2359, 2360, 2361, 2362, 2364, 2365, 2366, 2368, 2369, 2370, 2371, 2372, 2373, 2374, 2375, 2376, 2377, 2378, 2379, 2380, 2381, 2382, 2383, 2384, 2385, 2386, 2387, 2388, 2389, 2390, 2391, 2393, 2394, 2395, 2396, 2397, 2398, 2399, 2400, 2401, 2402, 2403, 2404, 2405, 2406, 2407, 2408, 2409, 2410, 2411, 2412, 2413, 2416, 2417, 2418, 2419, 2421, 2422, 2423, 2424, 2425, 2426, 2427, 2428, 2429, 2431, 2432, 2433, 2434, 2435, 2436, 2437, 2438, 2439, 2441, 2442, 2443, 2444, 2445, 2446, 2447, 2448, 2449, 2450, 2451, 2452, 2453, 2454, 2455, 2456, 2457, 2458, 2459, 2460, 2461, 2462, 2463, 2464, 2465, 2466, 2468, 2469, 2470, 2471, 2473, 2474, 2475, 2476, 2478, 2479, 2480, 2481, 2482, 2483, 2485, 2486, 2487, 2489, 2490, 2491, 2492, 2493, 2494, 2495, 2496, 2497, 2498, 2500, 2501, 2502, 2503, 2504, 2505, 2506, 2507, 2509, 2510, 2511, 2512, 2513, 2514, 2515, 2516, 2517, 2518, 2519, 2520, 2521, 2523, 2524, 2525, 2526, 2528, 2530, 2531, 2532, 2533, 2534, 2535, 2536, 2537, 2538, 2539, 2540, 2541, 2542, 2543, 2544, 2545, 2547, 2548, 2550, 2551, 2552, 2553, 2554, 2555, 2556, 2558, 2559, 2560, 2561, 2562, 2563, 2564, 2565, 2566, 2567, 2569, 2570, 2571, 2572, 2573, 2574, 2575, 2576, 2577, 2578, 2579, 2580, 2581, 2582, 2583, 2584, 2585, 2586, 2588, 2589, 2590, 2591, 2592, 2593, 2594, 2595, 2597, 2598, 2599, 2601, 2602, 2603, 2604, 2605, 2606, 2607, 2608, 2609, 2610, 2612, 2613, 2614, 2615, 2616, 2617, 2618, 2619, 2620, 2621, 2622, 2623, 2625, 2626, 2628, 2629, 2630, 2631, 2632, 2633, 2634, 2635, 2636, 2637, 2638, 2639, 2640, 2641, 2642, 2643, 2644, 2645, 2646, 2647, 2648, 2650, 2651, 2652, 2653, 2654, 2655, 2656, 2657, 2658, 2659, 2660, 2661, 2663, 2664, 2665, 2666, 2667, 2669, 2670, 2671, 2672, 2673, 2674, 2675, 2676, 2677, 2678, 2679, 2680, 2681, 2682, 2683, 2684, 2685, 2686, 2687, 2688, 2690, 2691, 2692, 2694, 2695, 2697, 2698, 2699, 2700, 2701, 2702, 2704, 2705, 2706, 2707, 2708, 2709, 2710, 2711, 2712, 2714, 2715, 2716, 2717, 2718, 2719, 2720, 2722, 2723, 2724, 2725, 2726, 2727, 2728, 2729, 2730, 2731, 2732, 2733, 2734, 2735, 2737, 2738, 2739, 2740, 2741, 2742, 2743, 2744, 2745, 2746, 2747, 2748, 2749, 2752, 2753, 2754, 2755, 2756, 2757, 2758, 2759, 2760, 2761, 2762, 2763, 2764, 2765, 2767, 2768, 2769, 2771, 2772, 2773, 2775, 2776, 2777, 2778, 2779, 2780, 2781, 2783, 2784, 2785, 2786, 2787, 2788, 2789, 2790, 2791, 2792, 2793, 2794, 2795, 2796, 2797, 2798, 2799, 2801, 2802, 2803, 2804, 2805, 2806, 2808, 2809, 2810, 2811, 2812, 2813, 2814, 2815, 2816, 2817, 2818, 2819, 2820, 2821, 2822, 2823, 2824, 2825, 2827, 2828, 2830, 2831, 2832, 2833, 2834, 2835, 2836, 2837, 2838, 2839, 2840, 2841, 2842, 2843, 2844, 2845, 2846, 2848, 2849, 2851, 2852, 2853, 2854, 2855, 2856, 2857, 2858, 2859, 2860, 2861, 2862, 2863, 2865, 2866, 2867, 2868, 2869, 2870, 2871, 2872, 2873, 2874, 2875, 2876, 2877, 2878, 2879, 2880, 2881, 2883, 2884, 2885, 2886, 2887, 2889, 2890, 2891, 2893, 2894, 2895, 2896, 2897, 2898, 2899, 2900, 2901, 2902, 2903, 2904, 2905, 2906, 2908, 2909, 2910, 2911, 2912, 2913, 2914, 2915, 2916, 2918, 2919, 2920, 2921, 2922, 2923, 2924, 2926, 2927, 2928, 2929, 2930, 2931, 2932, 2933, 2934, 2935, 2937, 2938, 2939, 2940, 2941, 2942, 2943, 2944, 2945, 2946, 2947, 2948, 2949, 2950, 2951, 2952, 2953, 2954, 2955, 2956, 2957, 2958, 2959, 2960, 2961, 2962, 2963, 2965, 2966, 2967, 2968, 2969, 2970, 2971, 2972, 2974, 2976, 2977, 2978, 2980, 2981, 2982, 2983, 2984, 2985, 2987, 2988, 2989, 2990, 2991, 2992, 2993, 2994, 2995, 2996, 2997, 2998, 2999, 3000, 3001, 3002, 3004, 3005, 3006, 3007, 3008, 3009, 3010, 3011, 3012, 3013, 3014, 3015, 3016, 3017, 3018, 3021, 3022, 3023, 3024, 3025, 3026, 3027, 3028, 3029, 3032, 3033, 3034, 3035, 3036, 3037, 3038, 3039, 3040, 3041, 3042, 3043, 3044, 3045, 3046, 3047, 3048, 3049, 3050, 3051, 3052, 3053, 3054, 3055, 3056, 3057, 3058, 3059, 3061, 3062, 3063, 3064, 3065, 3066, 3069, 3070, 3071, 3072, 3073, 3074, 3075, 3076, 3077, 3078, 3079, 3080, 3082, 3083, 3084, 3085, 3086, 3087, 3088, 3089, 3090, 3091, 3092, 3093, 3095, 3096, 3097, 3098, 3099, 3100, 3101, 3102, 3103, 3104, 3105, 3106, 3107, 3108, 3109, 3110, 3111, 3112, 3113, 3114, 3115, 3116, 3118, 3119, 3120, 3121, 3123, 3124, 3125, 3127, 3129, 3130, 3131, 3132, 3133, 3134, 3135, 3136, 3137, 3138, 3139, 3140, 3141, 3143, 3144, 3145, 3146, 3147, 3148, 3149, 3150, 3151, 3152, 3153, 3154, 3155, 3156, 3157, 3158, 3159, 3160, 3161, 3162, 3164, 3165, 3166, 3167, 3168, 3169, 3170, 3171, 3172, 3173, 3174, 3175, 3177, 3178, 3179, 3180, 3181, 3182, 3183, 3184, 3186, 3187, 3188, 3189, 3190, 3191, 3192, 3193, 3195, 3196, 3197, 3198, 3200, 3201, 3203, 3204, 3205, 3206, 3207, 3208, 3209, 3210, 3211, 3212, 3213, 3214, 3215, 3216, 3217, 3219, 3220, 3221, 3222, 3223, 3224, 3225, 3227, 3228, 3229, 3230, 3231, 3232, 3233, 3234, 3235, 3236, 3237, 3238, 3239, 3240, 3241, 3242, 3243, 3244, 3245, 3246, 3247, 3248, 3249, 3250, 3251, 3253, 3254, 3255, 3256, 3257, 3258, 3259, 3260, 3261, 3262, 3263, 3264, 3265, 3266, 3267, 3268, 3270, 3271, 3272, 3273, 3274, 3275, 3276, 3278, 3279, 3280, 3281, 3282, 3283, 3284, 3285, 3286, 3288, 3289, 3290, 3291, 3292, 3293, 3294, 3296, 3297, 3298, 3299, 3300, 3301, 3302, 3303, 3304, 3305, 3306, 3307, 3308, 3309, 3310, 3312, 3313, 3314, 3315, 3316, 3317, 3318, 3319, 3320, 3321, 3322, 3324, 3325, 3326, 3327, 3328, 3330, 3332, 3333, 3334, 3335, 3336, 3337, 3338, 3339, 3340, 3341, 3342, 3343, 3344, 3345, 3346, 3348, 3349, 3350, 3352, 3355, 3356, 3357, 3358, 3359, 3360, 3363, 3364, 3365, 3366, 3367, 3368, 3369, 3370, 3371, 3372, 3373, 3374, 3375, 3376, 3379, 3380, 3381, 3382, 3383, 3384, 3385, 3386, 3387, 3389, 3391, 3392, 3393, 3394, 3395, 3397, 3398, 3399, 3400, 3401, 3402, 3403, 3404, 3405, 3406, 3407, 3408, 3409, 3410, 3411, 3412, 3413, 3414, 3415, 3416, 3417, 3418, 3420, 3421, 3422, 3423, 3424, 3425, 3428, 3429, 3430, 3431, 3432, 3433, 3434, 3435, 3436, 3438, 3439, 3440, 3442, 3443, 3444, 3445, 3446, 3447, 3448, 3449, 3450, 3451, 3452, 3453, 3454, 3455, 3456, 3457, 3458, 3459, 3460, 3461, 3462, 3463, 3464, 3465, 3466, 3467, 3468, 3469, 3470, 3471, 3472, 3473, 3475, 3476, 3477, 3479, 3480, 3481, 3482, 3483, 3484, 3485, 3486, 3487, 3488, 3489, 3490, 3491, 3493, 3494, 3495, 3496, 3497, 3498, 3499, 3500, 3501, 3502, 3503, 3504, 3506, 3507, 3508, 3509, 3510, 3511, 3512, 3514, 3515, 3516, 3517, 3519, 3520, 3521, 3522, 3523, 3524, 3525, 3526, 3527, 3528, 3529, 3530, 3531, 3532, 3533, 3534, 3536, 3537, 3538, 3539, 3540, 3542, 3543, 3544, 3545, 3546, 3547, 3549, 3550, 3551, 3552, 3553, 3554, 3555, 3556, 3557, 3558, 3560, 3561, 3562, 3563, 3564, 3565, 3566, 3567, 3568, 3569, 3570, 3571, 3572, 3573, 3574, 3575, 3576, 3577, 3578, 3579, 3581, 3582, 3583, 3584, 3585, 3586, 3587, 3588, 3589, 3590, 3591, 3593, 3594, 3595, 3596, 3598, 3599, 3600, 3601, 3602, 3603, 3604, 3606, 3608, 3609, 3610, 3611, 3612, 3613, 3614, 3615, 3616, 3617, 3619, 3620, 3621, 3622, 3623, 3624, 3625, 3626, 3627, 3628, 3629, 3630, 3631, 3632, 3633, 3634, 3635, 3636, 3637, 3638, 3639, 3640, 3642, 3643, 3644, 3645, 3646, 3647, 3648, 3649, 3650, 3652, 3654, 3656, 3657, 3658, 3659, 3660, 3661, 3662, 3663, 3664, 3665, 3667, 3668, 3669, 3670, 3671, 3672, 3673, 3674, 3675, 3676, 3677, 3678, 3679, 3680, 3681, 3683, 3684, 3685, 3686, 3687, 3688, 3689, 3690, 3691, 3692, 3693, 3694, 3695, 3696, 3697, 3699, 3700, 3701, 3702, 3704, 3705, 3706, 3707, 3708, 3709, 3710, 3711, 3712, 3713, 3714, 3715, 3716, 3717, 3718, 3719, 3720, 3721, 3722, 3723, 3724, 3725, 3726, 3728, 3729, 3730, 3731, 3732, 3733, 3734, 3735, 3736, 3737, 3738, 3740, 3741, 3742, 3743, 3744, 3747, 3748, 3749, 3750, 3751, 3752, 3753, 3754, 3755, 3757, 3758, 3759, 3760, 3761, 3762, 3763, 3764, 3765, 3766, 3768, 3769, 3770, 3771, 3772, 3773, 3774, 3775, 3776, 3777, 3778, 3779, 3780, 3781, 3782, 3784, 3785, 3786, 3787, 3788, 3789, 3791, 3792, 3793, 3794, 3795, 3796, 3798, 3799, 3800, 3801, 3802, 3804, 3805, 3806, 3807, 3808, 3809, 3810, 3811, 3812, 3813, 3814, 3815, 3816, 3817, 3818, 3819, 3820, 3821, 3823, 3824, 3825, 3826, 3827, 3828, 3829, 3830, 3831, 3832, 3833, 3834, 3835, 3836, 3838, 3839, 3841, 3842, 3843, 3844, 3845, 3846, 3847, 3848, 3849, 3850, 3851, 3852, 3854, 3855, 3856, 3857, 3858, 3859, 3860, 3861, 3862, 3863, 3864, 3865, 3866, 3868, 3870, 3871, 3872, 3873, 3874, 3875, 3876, 3877, 3878, 3879, 3880, 3881, 3882, 3883, 3884, 3885, 3887, 3888, 3889, 3890, 3891, 3892, 3893, 3894, 3895, 3896, 3897, 3898, 3899, 3900, 3901, 3902, 3903, 3904, 3905, 3906, 3908, 3909, 3910, 3911, 3912, 3913, 3915, 3916, 3917, 3918, 3919, 3920, 3921, 3923, 3925, 3927, 3928, 3929, 3930, 3931, 3932, 3933, 3934, 3935, 3936, 3937, 3938, 3939, 3941, 3942, 3943, 3944, 3946, 3948, 3949, 3950, 3951, 3952, 3953, 3954, 3955, 3956, 3957, 3958, 3959, 3960, 3961, 3962, 3963, 3965, 3966, 3967, 3968, 3969, 3970, 3971, 3972, 3973, 3974, 3975, 3976, 3978, 3979, 3980, 3981, 3982, 3983, 3984, 3985, 3986, 3987, 3988, 3989, 3991, 3992, 3993, 3994, 3995, 3996, 3997, 3998, 4001, 4002, 4003, 4004, 4005, 4006, 4007, 4008, 4009, 4010, 4011, 4012, 4013, 4014, 4015, 4016, 4017, 4018, 4019, 4020, 4021, 4022, 4023, 4024, 4025, 4026, 4027, 4030, 4031, 4032, 4033, 4034, 4035, 4036, 4037, 4038, 4039, 4040, 4042, 4043, 4044, 4045, 4046, 4047, 4048, 4049, 4050, 4051, 4052, 4053, 4054, 4055, 4056, 4057, 4058, 4060, 4061, 4062, 4063, 4064, 4065, 4066, 4067, 4068, 4069, 4070, 4071, 4072, 4074, 4075, 4076, 4077, 4078, 4079, 4080, 4081, 4082, 4083, 4085, 4086, 4087, 4088, 4089, 4090, 4091, 4092, 4094, 4095, 4096, 4098, 4099, 4100, 4101, 4102, 4103, 4104, 4105, 4106, 4107, 4108, 4109, 4111, 4112, 4113, 4114, 4115, 4116, 4117, 4118, 4119, 4120, 4121, 4122, 4123, 4124, 4125, 4126, 4127, 4128, 4129, 4131, 4132, 4134, 4135, 4136, 4137, 4138, 4139, 4140, 4141, 4143, 4145, 4146, 4147, 4148, 4149, 4150, 4151, 4152, 4153, 4154, 4155, 4156, 4157, 4158, 4159, 4160, 4162, 4163, 4164, 4165, 4167, 4168, 4169, 4170, 4172, 4173, 4174, 4175, 4176, 4177, 4178, 4179, 4180, 4181, 4182, 4183, 4184, 4186, 4187, 4189, 4190, 4191, 4192, 4193, 4194, 4195, 4196, 4197, 4198, 4199, 4200, 4201, 4202, 4204, 4205, 4206, 4207, 4208, 4209, 4210, 4212, 4213, 4214, 4215, 4216, 4217, 4218, 4219, 4220, 4221, 4223, 4224, 4225, 4226, 4227, 4228, 4229, 4230, 4231, 4232, 4233, 4234, 4235, 4236, 4237, 4238, 4239, 4241, 4242, 4243, 4244, 4245, 4246, 4247, 4249, 4250, 4251, 4252, 4253, 4254, 4255, 4256, 4258, 4259, 4260, 4261, 4262, 4263, 4265, 4266, 4267, 4268, 4269, 4270, 4271, 4273, 4274, 4275, 4276, 4277, 4278, 4279, 4280, 4281, 4282, 4283, 4284, 4285, 4287, 4288, 4289, 4290, 4291, 4292, 4293, 4294, 4295, 4297, 4298, 4299, 4300, 4301, 4302, 4303, 4304, 4305, 4306, 4307, 4308, 4309, 4310, 4312, 4313, 4314, 4315, 4316, 4317, 4318, 4319, 4320, 4321, 4322, 4323, 4324, 4325, 4326, 4327, 4328, 4329, 4330, 4331, 4332, 4333, 4334, 4335, 4336, 4337, 4338, 4339, 4341, 4342, 4343, 4344, 4346, 4347, 4348, 4349, 4351, 4352, 4353, 4354, 4355, 4356, 4357, 4358, 4359, 4360, 4361, 4362, 4363, 4364, 4365, 4367, 4368, 4370, 4371, 4373, 4374, 4375, 4376, 4377, 4378, 4379, 4380, 4381, 4382, 4383, 4384, 4385, 4386, 4387, 4388, 4390, 4391, 4392, 4393, 4394, 4395, 4396, 4397, 4398, 4399, 4400, 4401, 4403, 4404, 4405, 4406, 4407, 4408, 4409, 4410, 4411, 4412, 4413, 4415, 4416, 4417, 4419, 4420, 4421, 4422, 4423, 4424, 4425, 4427, 4428, 4429, 4430, 4431, 4432, 4433, 4434, 4435, 4436, 4437, 4438, 4440, 4441, 4442, 4443, 4444, 4445, 4446, 4447, 4448, 4449, 4450, 4451, 4453, 4454, 4455, 4456, 4457, 4458, 4459, 4461, 4462, 4463, 4464, 4465, 4466, 4468, 4469, 4470, 4471, 4472, 4473, 4474, 4475, 4476, 4477, 4478, 4479, 4480, 4482, 4483, 4484, 4486, 4487, 4489, 4490, 4491, 4492, 4493, 4494, 4495, 4496, 4498, 4499, 4500, 4501, 4502, 4503, 4504, 4506, 4507, 4508, 4509, 4510, 4511, 4512, 4513, 4514, 4516, 4517, 4518, 4519, 4520, 4521, 4522, 4523, 4524, 4525, 4526, 4527, 4528, 4530, 4531, 4532, 4533, 4534, 4535, 4536, 4537, 4538, 4539, 4540, 4541, 4542, 4543, 4544, 4546, 4547, 4548, 4549, 4550, 4551, 4552, 4553, 4554, 4555, 4556, 4558, 4559, 4561, 4562, 4563, 4564, 4565, 4566, 4567, 4568, 4570, 4571, 4572, 4573, 4574, 4575, 4576, 4577, 4578, 4579, 4580, 4581, 4582, 4583, 4584, 4586, 4587, 4588, 4589, 4590, 4591, 4592, 4593, 4594, 4597, 4598, 4599, 4600, 4601, 4602, 4603, 4604, 4605, 4606, 4607, 4608, 4609, 4610, 4611, 4612, 4613, 4614, 4615, 4616, 4617, 4618, 4620, 4621, 4622, 4623, 4624, 4625, 4626, 4627, 4628, 4629, 4630, 4631, 4632, 4633, 4634, 4635, 4638, 4639, 4640, 4641, 4642, 4643, 4644, 4645, 4647, 4648, 4650, 4651, 4652, 4653, 4654, 4655, 4656, 4658, 4659, 4660, 4661, 4662, 4663, 4664, 4665, 4666, 4667, 4668, 4669, 4671, 4672, 4673, 4674, 4675, 4676, 4677, 4679, 4680, 4681, 4682, 4683, 4684, 4685, 4687, 4688, 4689, 4690, 4691, 4692, 4693, 4694, 4695, 4696, 4697, 4698, 4699, 4700, 4701, 4702, 4703, 4704, 4705, 4706, 4707, 4708, 4710, 4711, 4712, 4713, 4714, 4715, 4717, 4718, 4719, 4720, 4721, 4722, 4724, 4725, 4726, 4727, 4728, 4729, 4730, 4731, 4732, 4733, 4734, 4735, 4736, 4737, 4738, 4739, 4741, 4742, 4743, 4744, 4745, 4746, 4747, 4748, 4750, 4751, 4752, 4753, 4754, 4755, 4756, 4758, 4760, 4762, 4763, 4764, 4765, 4766, 4767, 4768, 4769, 4770, 4771, 4772, 4773, 4774, 4775, 4776, 4777, 4778, 4779, 4780, 4781, 4782, 4783, 4784, 4785, 4786, 4787, 4788, 4791, 4792, 4793, 4794, 4795, 4796, 4797, 4799, 4800, 4801, 4802, 4803, 4804, 4805, 4806, 4807, 4808, 4809, 4811, 4812, 4813, 4814, 4815, 4816, 4817, 4818, 4819, 4820, 4821, 4822, 4823, 4824, 4825, 4826, 4827, 4829, 4830, 4831, 4832, 4833, 4834, 4835, 4836, 4837, 4838, 4839, 4841, 4842, 4843, 4844, 4845, 4846, 4848, 4849, 4850, 4851, 4852, 4853, 4854, 4855, 4856, 4857, 4858, 4860, 4861, 4862, 4864, 4865, 4866, 4867, 4868, 4869, 4870, 4871, 4872, 4873, 4874, 4875, 4876, 4877, 4879, 4880, 4881, 4882, 4883, 4884, 4885, 4887, 4888, 4889, 4890, 4891, 4892, 4893, 4894, 4895, 4896, 4897, 4898, 4900, 4901, 4902, 4903, 4905, 4906, 4907, 4908, 4909, 4910, 4911, 4912, 4914, 4916, 4917, 4918, 4919, 4920, 4921, 4922, 4923, 4924, 4925, 4927, 4928, 4929, 4930, 4931, 4932, 4933, 4934, 4935, 4936, 4937, 4938, 4939, 4940, 4942, 4943, 4944, 4945, 4946, 4947, 4948, 4949, 4950, 4951, 4952, 4953, 4954, 4955, 4956, 4957, 4958, 4959, 4960, 4961, 4962, 4963, 4965, 4966, 4967, 4968, 4969, 4970, 4972, 4974, 4975, 4976, 4977, 4978, 4979, 4981, 4982, 4983, 4984, 4985, 4986, 4987, 4988, 4989, 4990, 4991, 4992, 4993, 4995, 4996, 4997, 4998, 4999, 5000, 5001, 5002, 5003, 5004, 5005, 5006, 5007, 5008, 5009, 5010, 5012, 5013, 5014, 5015, 5016, 5017, 5018, 5020, 5021, 5022, 5023, 5024, 5025, 5026, 5027, 5028, 5029, 5030, 5031, 5032, 5033, 5034, 5035, 5036, 5037, 5038, 5039, 5040, 5041, 5042, 5043, 5044, 5046, 5047, 5049, 5051, 5052, 5053, 5054, 5055, 5056, 5057, 5059, 5060, 5061, 5062, 5063, 5065, 5066, 5067, 5068, 5069, 5071, 5072, 5073, 5074, 5075, 5076, 5077, 5078, 5079, 5080, 5081, 5082, 5083, 5084, 5085, 5086, 5087, 5088, 5089, 5090, 5091, 5092, 5093, 5094, 5095, 5096, 5098, 5099, 5100, 5101, 5102, 5103, 5104, 5105, 5106, 5107, 5108, 5109, 5110, 5112, 5113, 5114, 5115, 5116, 5117, 5118, 5119, 5121, 5122, 5123, 5124, 5125, 5126, 5127, 5128, 5130, 5131, 5132, 5133, 5134, 5135, 5136, 5137, 5138, 5139, 5140, 5141, 5143, 5144, 5145, 5146, 5148, 5149, 5150, 5151, 5152, 5153, 5154, 5155, 5156, 5157, 5158, 5159, 5160, 5161, 5163, 5164, 5166, 5167, 5169, 5170, 5171, 5172, 5173, 5174, 5175, 5176, 5177, 5178, 5179, 5180, 5181, 5182, 5183, 5184, 5185, 5187, 5188, 5189, 5190, 5191, 5192, 5193, 5194, 5196, 5197, 5198, 5199, 5200, 5201, 5202, 5203, 5204, 5205, 5207, 5208, 5209, 5210, 5211, 5212, 5214, 5215, 5216, 5217, 5218, 5219, 5220, 5221, 5223, 5224, 5225, 5227, 5228, 5229, 5230, 5231, 5232, 5233, 5234, 5236, 5237, 5238, 5239, 5240, 5241, 5242, 5243, 5244, 5245, 5246, 5247, 5248, 5249, 5250, 5251, 5252, 5253, 5254, 5255, 5256, 5257, 5258, 5259, 5260, 5261, 5262, 5263, 5265, 5266, 5267, 5268, 5270, 5271, 5272, 5273, 5274, 5275, 5276, 5277, 5278, 5279, 5280, 5281, 5283, 5284, 5286, 5287, 5288, 5289, 5290, 5291, 5292, 5293, 5294, 5295, 5296, 5297, 5299, 5300, 5301, 5302, 5303, 5304, 5305, 5306, 5307, 5308, 5309, 5310, 5312, 5313, 5314, 5315, 5316, 5317, 5318, 5319, 5320, 5321, 5322, 5323, 5325, 5326, 5327, 5328, 5330, 5331, 5332, 5334, 5335, 5336, 5337, 5338, 5339, 5340, 5341, 5342, 5343, 5344, 5345, 5347, 5348, 5349, 5350, 5351, 5353, 5354, 5355, 5356, 5357, 5358, 5359, 5360, 5361, 5362, 5363, 5364, 5365, 5366, 5367, 5368, 5369, 5371, 5372, 5373, 5374, 5375, 5376, 5377, 5378, 5379, 5380, 5381, 5382, 5383, 5385, 5386, 5388, 5389, 5390, 5391, 5392, 5393, 5395, 5396, 5397, 5398, 5399, 5400, 5402, 5403, 5404, 5405, 5406, 5407, 5408, 5409, 5410, 5411, 5413, 5414, 5415, 5416, 5417, 5418, 5419, 5421, 5422, 5423, 5424, 5425, 5426, 5427, 5428, 5429, 5430, 5431, 5433, 5434, 5435, 5436, 5437, 5438, 5439, 5440, 5441, 5442, 5443, 5445, 5446, 5447, 5448, 5449, 5451, 5452, 5453, 5454, 5455, 5457, 5458, 5459, 5460, 5461, 5462, 5463, 5464, 5465, 5466, 5467, 5468, 5469, 5470, 5471, 5472, 5473, 5474, 5475, 5476, 5479, 5480, 5481, 5482, 5483, 5484, 5485, 5486, 5487, 5488, 5489, 5490, 5491, 5492, 5493, 5494, 5495, 5496, 5497, 5498, 5501, 5502, 5503, 5504, 5505, 5506, 5507, 5508, 5509, 5511, 5512, 5513, 5514, 5515, 5516, 5517, 5518, 5519, 5520, 5522, 5523, 5524, 5526, 5527, 5528, 5529, 5530, 5531, 5532, 5534, 5535, 5536, 5537, 5538, 5539, 5540, 5541, 5542, 5543, 5544, 5545, 5546, 5547, 5548, 5549, 5550, 5553, 5554, 5555, 5556, 5557, 5558, 5559, 5560, 5561, 5562, 5563, 5564, 5565, 5567, 5568, 5569, 5570, 5571, 5572, 5573, 5575, 5576, 5577, 5578, 5579, 5580, 5581, 5582, 5583, 5584, 5585, 5586, 5587, 5588, 5589, 5590, 5591, 5592, 5593, 5594, 5595, 5596, 5597, 5599, 5600, 5601, 5602, 5603, 5604, 5605, 5606, 5607, 5608, 5610, 5611, 5612, 5613, 5614, 5615, 5616, 5617, 5618, 5619, 5620, 5621, 5622, 5623, 5624, 5625, 5626, 5627, 5628, 5629, 5631, 5632, 5633, 5634, 5636, 5637, 5638, 5640, 5641, 5642, 5643, 5644, 5646, 5647, 5648, 5649, 5650, 5651, 5652, 5653, 5654, 5655, 5657, 5658, 5659, 5660, 5661, 5662, 5663, 5664, 5665, 5666, 5668, 5669, 5670, 5671, 5672, 5673, 5674, 5675, 5676, 5677, 5680, 5681, 5682, 5683, 5684, 5685, 5686, 5687, 5688, 5689, 5690, 5691, 5693, 5694, 5695, 5696, 5697, 5698, 5699, 5700, 5701, 5702, 5703, 5704, 5705, 5706, 5708, 5709, 5710, 5711, 5712, 5714, 5715, 5716, 5718, 5719, 5721, 5722, 5723, 5724, 5725, 5726, 5727, 5728, 5729, 5730, 5731, 5732, 5733, 5734, 5735, 5736, 5738, 5739, 5740, 5742, 5743, 5744, 5745, 5746, 5747, 5748, 5749, 5750, 5751, 5752, 5753, 5755, 5756, 5757, 5758, 5759, 5760, 5761, 5762, 5763, 5765, 5767, 5768, 5769, 5770, 5771, 5772, 5774, 5775, 5776, 5777, 5778, 5779, 5780, 5781, 5782, 5783, 5784, 5785, 5786, 5787, 5788, 5789, 5790, 5791, 5792, 5793, 5794, 5795, 5796, 5797, 5798, 5799, 5800, 5802, 5803, 5804, 5805, 5806, 5808, 5809, 5810, 5811, 5812, 5813, 5814, 5815, 5816, 5817, 5818, 5819, 5820, 5821, 5822, 5823, 5824, 5826, 5827, 5828, 5830, 5831, 5832, 5834, 5835, 5836, 5837, 5838, 5839, 5840, 5841, 5842, 5843, 5844, 5845, 5846, 5848, 5849, 5850, 5851, 5852, 5853, 5854, 5855, 5856, 5857, 5858, 5859, 5860, 5861, 5862, 5863, 5865, 5866, 5867, 5868, 5869, 5870, 5871, 5872, 5873, 5875, 5876, 5877, 5878, 5879, 5880, 5881, 5882, 5883, 5885, 5886, 5887, 5888, 5889, 5890, 5891, 5892, 5893, 5894, 5895, 5897, 5898, 5899, 5900, 5901, 5902, 5903, 5904, 5906, 5907, 5908, 5909, 5910, 5911, 5912, 5913, 5914, 5916, 5917, 5918, 5919, 5920, 5921, 5922, 5923, 5924, 5927, 5928, 5929, 5930, 5931, 5932, 5933, 5934, 5935, 5936, 5937, 5938, 5939, 5940, 5941, 5942, 5943, 5944, 5946, 5947, 5948, 5949, 5950, 5951, 5952, 5953, 5955, 5956, 5957, 5958, 5959, 5960, 5961, 5962, 5963, 5964, 5965, 5966, 5967, 5969, 5970, 5971, 5972, 5973, 5974, 5975, 5976, 5978, 5979, 5980, 5981, 5983, 5984, 5985, 5986, 5987, 5988, 5989, 5990, 5992, 5993, 5994, 5995, 5996, 5997, 5998, 5999, 6000, 6002, 6003, 6004, 6005, 6006, 6007, 6008, 6009, 6011, 6012, 6013, 6014, 6015, 6016, 6017, 6018, 6019, 6020, 6021, 6022, 6023, 6024, 6025, 6026, 6028, 6029, 6030, 6031, 6032, 6033, 6034, 6035, 6036, 6037, 6040, 6041, 6043, 6044, 6045, 6046, 6047, 6048, 6049, 6050, 6051, 6052, 6053, 6054, 6055, 6056, 6057, 6058, 6059, 6060, 6061, 6062, 6063, 6065, 6066, 6067, 6068, 6069, 6070, 6071, 6072, 6073, 6074, 6075, 6076, 6078, 6079, 6080, 6081, 6082, 6083, 6084, 6085, 6086, 6088, 6089, 6090, 6091, 6092, 6093, 6094, 6096, 6097, 6098, 6099, 6100, 6101, 6102, 6103, 6104, 6105, 6107, 6108, 6109, 6110, 6111, 6112, 6113, 6114, 6116, 6117, 6118, 6119, 6120, 6122, 6123, 6124, 6125, 6126, 6127, 6128, 6129, 6130, 6131, 6132, 6133, 6134, 6135, 6136, 6137, 6139, 6141, 6142, 6143, 6144, 6145, 6146, 6147, 6148, 6149, 6150, 6151, 6152, 6153, 6154, 6155, 6156, 6157, 6159, 6160, 6161, 6162, 6163, 6164, 6165, 6166, 6167, 6168, 6169, 6171, 6172, 6173, 6174, 6175, 6176, 6177, 6178, 6179, 6181, 6182, 6183, 6185, 6186, 6187, 6188, 6189, 6190, 6191, 6192, 6193, 6194, 6195, 6197, 6198, 6199, 6200, 6201, 6202, 6203, 6204, 6205, 6206, 6207, 6208, 6209, 6210, 6211, 6212, 6213, 6214, 6215, 6216, 6217, 6218, 6219, 6220, 6221, 6224, 6225, 6226, 6227, 6228, 6229, 6230, 6232, 6233, 6234, 6235, 6236, 6237, 6238, 6239, 6241, 6242, 6243, 6244, 6245, 6246, 6247, 6248, 6249, 6250, 6251, 6252, 6253, 6254, 6255, 6256, 6258, 6259, 6261, 6262, 6263, 6264, 6265, 6267, 6268, 6269, 6270, 6272, 6273, 6274, 6275, 6277, 6278, 6279, 6280, 6281, 6282, 6283, 6284, 6286, 6287, 6288, 6289, 6290, 6291, 6292, 6294, 6295, 6296, 6297, 6298, 6299, 6300, 6301, 6302, 6303, 6304, 6305, 6306, 6307, 6308, 6309, 6310, 6311, 6313, 6314, 6315, 6318, 6319, 6320, 6321, 6322, 6323, 6324, 6325, 6326, 6327, 6328, 6329, 6330, 6331, 6332, 6333, 6334, 6336, 6337, 6338, 6339, 6340, 6341, 6342, 6344, 6345, 6346, 6347, 6348, 6349, 6350, 6351, 6352, 6353, 6355, 6356, 6357, 6358, 6359, 6360, 6361, 6362, 6363, 6364, 6365, 6366, 6367, 6368, 6369, 6370, 6371, 6372, 6373, 6374, 6375, 6376, 6377, 6380, 6381, 6382, 6383, 6384, 6385, 6386, 6387, 6388, 6390, 6391, 6392, 6393, 6394, 6395, 6396, 6397, 6398, 6399, 6400, 6402, 6403, 6404, 6405, 6407, 6409, 6410, 6411, 6412, 6413, 6414, 6415, 6416, 6417, 6418, 6419, 6420, 6421, 6422, 6423, 6424, 6425, 6426, 6427, 6428, 6430, 6431, 6432, 6433, 6434, 6435, 6436, 6437, 6438, 6439, 6440, 6441, 6442, 6443, 6444, 6445, 6446, 6448, 6449, 6450, 6451, 6452, 6453, 6454, 6455, 6456, 6457, 6458, 6459, 6460, 6461, 6462, 6465, 6466, 6467, 6468, 6469, 6470, 6471, 6472, 6473, 6474, 6475, 6476, 6477, 6478, 6479, 6480, 6481, 6483, 6484, 6485, 6486, 6487, 6488, 6490, 6491, 6492, 6493, 6494, 6495, 6496, 6497, 6498, 6499, 6500, 6501, 6502, 6503, 6504, 6506, 6507, 6508, 6509, 6511, 6512, 6513, 6514, 6515, 6516, 6517, 6519, 6520, 6521, 6522, 6523, 6526, 6528, 6529, 6530, 6531, 6532, 6534, 6535, 6536, 6537, 6539, 6540, 6541, 6543, 6544, 6545, 6546, 6547, 6548, 6549, 6550, 6551, 6552, 6553, 6554, 6555, 6556, 6557, 6558, 6560, 6561, 6562, 6563, 6564, 6565, 6566, 6567, 6568, 6569, 6571, 6572, 6573, 6575, 6576, 6577, 6578, 6579, 6580, 6581, 6582, 6583, 6584, 6585, 6586, 6587, 6590, 6591, 6592, 6593, 6594, 6595, 6596, 6597, 6599, 6600, 6601, 6602, 6603, 6604, 6605, 6606, 6607, 6609, 6611, 6612, 6613, 6614, 6615, 6616, 6617, 6618, 6619, 6620, 6621, 6622, 6623, 6624, 6625, 6626, 6627, 6628, 6629, 6630, 6631, 6632, 6633, 6634, 6635, 6636, 6637, 6638, 6639, 6641, 6642, 6644, 6645, 6646, 6647, 6648, 6649, 6650, 6651, 6652, 6653, 6655, 6656, 6657, 6658, 6659, 6660, 6661, 6662, 6664, 6665, 6666, 6667, 6669, 6670, 6671, 6672, 6673, 6674, 6675, 6677, 6678, 6679, 6680, 6681, 6682, 6683, 6684, 6685, 6687, 6688, 6689, 6690, 6691, 6692, 6693, 6694, 6695, 6696, 6697, 6698, 6699, 6700, 6701, 6703, 6704, 6705, 6706, 6707, 6708, 6709, 6710, 6711, 6712, 6714, 6715, 6716, 6718, 6720, 6721, 6722, 6723, 6724, 6725, 6726, 6727, 6728, 6729, 6730, 6731, 6732, 6733, 6735, 6736, 6737, 6738, 6739, 6740, 6741, 6742, 6743, 6744, 6745, 6746, 6747, 6748, 6749, 6750, 6751, 6752, 6753, 6754, 6756, 6757, 6758, 6759, 6760, 6761, 6762, 6763, 6764, 6765, 6766, 6767, 6769, 6770, 6771, 6772, 6773, 6774, 6775, 6776, 6777, 6778, 6779, 6780, 6781, 6782, 6783, 6784, 6785, 6786, 6787, 6788, 6789, 6792, 6793, 6794, 6795, 6796, 6798, 6799, 6800, 6801, 6802, 6803, 6805, 6806, 6807, 6809, 6810, 6811, 6812, 6813, 6814, 6815, 6816, 6817, 6818, 6819, 6820, 6821, 6822, 6823, 6824, 6826, 6827, 6828, 6829, 6830, 6831, 6832, 6833, 6834, 6835, 6837, 6838, 6839, 6840, 6841, 6842, 6843, 6844, 6846, 6847, 6848, 6849, 6850, 6851, 6852, 6853, 6854, 6855, 6856, 6857, 6858, 6859, 6861, 6862, 6864, 6865, 6866, 6867, 6868, 6870, 6871, 6872, 6873, 6874, 6875, 6876, 6877, 6878, 6879, 6880, 6881, 6882, 6883, 6884, 6886, 6887, 6888, 6889, 6890, 6891, 6892, 6893, 6894, 6895, 6896, 6897, 6898, 6899, 6900, 6901, 6902, 6903, 6905, 6906, 6907, 6908, 6909, 6910, 6912, 6913, 6914, 6915, 6916, 6917, 6918, 6919, 6920, 6921, 6922, 6923, 6925, 6926, 6927, 6928, 6929, 6930, 6931, 6933, 6934, 6935, 6936, 6937, 6939, 6940, 6941, 6942, 6944, 6945, 6946, 6947, 6948, 6949, 6950, 6951, 6952, 6953, 6955, 6956, 6957, 6958, 6959, 6960, 6961, 6962, 6963, 6964, 6965, 6966, 6967, 6968, 6969, 6971, 6972, 6973, 6974, 6975, 6976, 6977, 6978, 6979, 6980, 6981, 6982, 6984, 6985, 6986, 6987, 6988, 6989, 6990, 6991, 6992, 6993, 6995, 6996, 6997, 6998, 6999, 7000, 7001, 7002, 7003, 7004, 7005, 7006, 7007, 7009, 7010, 7011, 7013, 7014, 7015, 7017, 7018, 7019, 7020, 7021, 7022, 7023, 7024, 7025, 7026, 7028, 7029, 7030, 7031, 7032, 7033, 7034, 7035, 7037, 7038, 7039, 7040, 7041, 7042, 7043, 7044, 7045, 7046, 7047, 7048, 7049, 7050, 7051, 7052, 7053, 7054, 7055, 7056, 7058, 7059, 7060, 7061, 7062, 7063, 7065, 7066, 7067, 7068, 7069, 7070, 7071, 7072, 7073, 7075, 7076, 7077, 7078, 7080, 7081, 7083, 7084, 7085, 7086, 7087, 7088, 7089, 7090, 7091, 7092, 7093, 7094, 7095, 7096, 7097, 7098, 7099, 7100, 7102, 7103, 7104, 7105, 7106, 7107, 7108, 7110, 7111, 7112, 7113, 7114, 7115, 7116, 7117, 7118, 7119, 7120, 7121, 7122, 7123, 7124, 7126, 7127, 7128, 7129, 7130, 7131, 7132, 7133, 7134, 7135, 7136, 7137, 7138, 7139, 7140, 7141, 7142, 7143, 7144, 7145, 7146, 7148, 7149, 7151, 7152, 7153, 7154, 7155, 7156, 7157, 7158, 7159, 7160, 7161, 7162, 7163, 7164, 7165, 7166, 7167, 7168, 7169, 7170, 7171, 7174, 7175, 7176, 7177, 7179, 7180, 7181, 7182, 7183, 7184, 7185, 7186, 7187, 7188, 7189, 7190, 7192, 7193, 7194, 7195, 7196, 7197, 7198, 7200, 7201, 7202, 7203, 7204, 7205, 7206, 7207, 7208, 7209, 7210, 7211, 7212, 7214, 7215, 7216, 7217, 7218, 7219, 7220, 7222, 7223, 7224, 7225, 7226, 7227, 7228, 7229, 7230, 7231, 7232, 7233, 7234, 7236, 7237, 7238, 7239, 7240, 7242, 7243, 7244, 7245, 7246, 7247, 7248, 7249, 7250, 7251, 7252, 7253, 7254, 7255, 7257, 7258, 7259, 7260, 7262, 7263, 7264, 7265, 7266, 7267, 7268, 7269, 7270, 7271, 7272, 7273, 7274, 7275, 7276, 7277, 7278, 7279, 7280, 7281, 7282, 7283, 7284, 7285, 7286, 7287, 7288, 7290, 7291, 7292, 7293, 7294, 7295, 7296, 7297, 7298, 7300, 7301, 7302, 7304, 7305, 7306, 7307, 7310, 7311, 7312, 7313, 7314, 7315, 7316, 7317, 7318, 7319, 7321, 7322, 7324, 7325, 7326, 7327, 7328, 7329, 7330, 7331, 7332, 7333, 7334, 7335, 7336, 7337, 7338, 7339, 7340, 7341, 7342, 7343, 7345, 7346, 7347, 7348, 7349, 7350, 7351, 7352, 7353, 7355, 7356, 7357, 7358, 7360, 7361, 7362, 7363, 7364, 7365, 7366, 7367, 7368, 7369, 7370, 7371, 7373, 7374, 7375, 7376, 7377, 7378, 7379, 7380, 7381, 7382, 7383, 7385, 7386, 7387, 7388, 7389, 7390, 7391, 7392, 7393, 7394, 7395, 7396, 7398, 7399, 7400, 7401, 7402, 7403, 7405, 7406, 7407, 7408, 7409, 7410, 7411, 7412, 7413, 7414, 7416, 7417, 7418, 7419, 7420, 7421, 7422, 7423, 7424, 7425, 7426, 7427, 7428, 7429, 7430, 7432, 7433, 7434, 7435, 7436, 7437, 7438, 7439, 7440, 7442, 7443, 7444, 7445, 7446, 7447, 7448, 7449, 7450, 7451, 7453, 7454, 7455, 7456, 7458, 7459, 7461, 7462, 7463, 7464, 7465, 7466, 7467, 7468, 7469, 7471, 7472, 7474, 7475, 7476, 7477, 7478, 7479, 7480, 7481, 7482, 7483, 7484, 7485, 7486, 7488, 7489, 7490, 7491, 7492, 7493, 7494, 7495, 7496, 7497, 7498, 7499, 7500, 7501, 7502, 7503, 7504, 7505, 7506, 7507, 7508, 7509, 7510, 7512, 7513, 7514, 7516, 7517, 7518, 7519, 7520, 7521, 7522, 7523, 7524, 7525, 7526, 7527, 7528, 7530, 7531, 7532, 7533, 7534, 7535, 7536, 7537, 7538, 7539, 7540, 7542, 7544, 7545, 7547, 7549, 7550, 7551, 7552, 7553, 7555, 7557, 7558, 7559, 7560, 7561, 7562, 7563, 7564, 7565, 7566, 7567, 7568, 7569, 7570, 7571, 7572, 7573, 7574, 7575, 7577, 7578, 7579, 7580, 7581, 7582, 7583, 7584, 7585, 7586, 7587, 7588, 7589, 7590, 7591, 7592, 7593, 7595, 7596, 7597, 7599, 7600, 7601, 7602, 7603, 7604, 7605, 7606, 7607, 7608, 7610, 7611, 7614, 7615, 7616, 7617, 7618, 7619, 7620, 7621, 7622, 7623, 7624, 7625, 7626, 7627, 7628, 7629, 7630, 7631, 7633, 7634, 7635, 7636, 7637, 7638, 7639, 7640, 7641, 7642, 7643, 7644, 7645, 7646, 7647, 7648, 7651, 7652, 7653, 7654, 7655, 7656, 7657, 7658, 7659, 7660, 7661, 7662, 7663, 7664, 7665, 7666, 7667, 7669, 7671, 7672, 7673, 7674, 7676, 7677, 7678, 7679, 7680, 7681, 7682, 7683, 7684, 7685, 7686, 7687, 7688, 7689, 7690, 7691, 7692, 7693, 7694, 7695, 7696, 7697, 7698, 7699, 7700, 7702, 7703, 7704, 7705, 7706, 7707, 7708, 7709, 7710, 7711, 7712, 7713, 7714, 7716, 7717, 7718, 7719, 7720, 7721, 7722, 7723, 7725, 7726, 7728, 7729, 7730, 7731, 7732, 7733, 7734, 7735, 7736, 7737, 7738, 7739, 7741, 7742, 7743, 7744, 7745, 7746, 7747, 7748, 7749, 7750, 7751, 7752, 7753, 7754, 7755, 7757, 7758, 7759, 7760, 7761, 7762, 7764, 7765, 7766, 7767, 7768, 7769, 7770, 7771, 7773, 7774, 7775, 7776, 7778, 7780, 7781, 7782, 7783, 7784, 7785, 7787, 7788, 7789, 7790, 7791, 7792, 7793, 7794, 7795, 7796, 7797, 7799, 7800, 7801, 7802, 7804, 7805, 7806, 7807, 7809, 7810, 7811, 7812, 7813, 7814, 7815, 7816, 7817, 7818, 7819, 7820, 7821, 7822, 7823, 7824, 7825, 7826, 7827, 7828, 7829, 7830, 7832, 7833, 7835, 7836, 7837, 7838, 7839, 7840, 7841, 7842, 7843, 7844, 7845, 7846, 7847, 7848, 7849, 7850, 7851, 7852, 7853, 7854, 7855, 7856, 7857, 7860, 7861, 7862, 7863, 7864, 7865, 7866, 7868, 7869, 7870, 7871, 7872, 7873, 7874, 7875, 7876, 7877, 7878, 7879, 7880, 7881, 7882, 7883, 7884, 7885, 7886, 7887, 7889, 7891, 7892, 7893, 7894, 7895, 7896, 7897, 7898, 7899, 7900, 7901, 7902, 7903, 7904, 7905, 7906, 7907, 7909, 7910, 7911, 7912, 7913, 7915, 7916, 7917, 7918, 7919, 7920, 7921, 7922, 7923, 7924, 7925, 7926, 7927, 7928, 7929, 7930, 7931, 7932, 7933, 7935, 7936, 7937, 7938, 7939, 7941, 7942, 7944, 7945, 7946, 7947, 7948, 7949, 7950, 7951, 7952, 7953, 7954, 7955, 7956, 7957, 7958, 7959, 7960, 7961, 7962, 7963, 7964, 7967, 7968, 7969, 7970, 7971, 7972, 7973, 7974, 7976, 7977, 7978, 7979, 7980, 7981, 7983, 7984, 7986, 7987, 7988, 7989, 7990, 7991, 7992, 7993, 7994, 7995, 7996, 7997, 7998, 7999, 8000, 8001, 8002, 8003, 8004, 8005, 8006, 8007, 8008, 8009, 8011, 8012, 8013, 8015, 8016, 8017, 8018, 8019, 8020, 8021, 8022, 8023, 8024, 8025, 8026, 8027, 8028, 8029, 8030, 8031, 8032, 8033, 8034, 8035, 8036, 8038, 8039, 8040, 8041, 8043, 8044, 8045, 8046, 8047, 8048, 8050, 8051, 8052, 8053, 8054, 8055, 8056, 8058, 8059, 8060, 8061, 8063, 8064, 8065, 8066, 8067, 8068, 8069, 8070, 8071, 8072, 8074, 8075, 8076, 8077, 8078, 8079, 8080, 8081, 8082, 8084, 8085, 8086, 8087, 8088, 8089, 8090, 8091, 8092, 8093, 8094, 8095, 8096, 8097, 8099, 8100, 8101, 8102, 8104, 8105, 8106, 8107, 8108, 8109, 8110, 8111, 8113, 8114, 8115, 8116, 8117, 8118, 8119, 8120, 8121, 8123, 8124, 8125, 8126, 8127, 8128, 8130, 8131, 8132, 8133, 8134, 8135, 8136, 8137, 8138, 8139, 8140, 8142, 8143, 8144, 8145, 8146, 8147, 8148, 8149, 8151, 8152, 8153, 8154, 8155, 8156, 8157, 8158, 8159, 8160, 8161, 8162, 8163, 8164, 8165, 8166, 8167, 8168, 8169, 8170, 8171, 8172, 8173, 8175, 8176, 8177, 8179, 8180, 8181, 8182, 8183, 8184, 8185, 8187, 8188, 8189, 8190, 8191, 8192, 8193, 8194, 8195, 8196, 8197, 8198, 8199, 8200, 8201, 8203, 8204, 8205, 8206, 8207, 8208, 8210, 8211, 8212, 8213, 8214, 8215, 8216, 8217, 8218, 8219, 8220, 8221, 8222, 8224, 8226, 8227, 8228, 8229, 8230, 8231, 8233, 8234, 8235, 8236, 8237, 8238, 8239, 8240, 8241, 8242, 8243, 8244, 8245, 8246, 8247, 8248, 8249, 8250, 8251, 8252, 8253, 8254, 8255, 8257, 8258, 8259, 8260, 8261, 8262, 8263, 8264, 8265, 8266, 8267, 8268, 8271, 8273, 8274, 8275, 8276, 8277, 8278, 8279, 8280, 8281, 8283, 8284, 8285, 8286, 8287, 8288, 8289, 8290, 8291, 8292, 8294, 8295, 8296, 8298, 8299, 8300, 8301, 8302, 8303, 8304, 8305, 8307, 8308, 8309, 8310, 8311, 8312, 8313, 8314, 8315, 8316, 8318, 8319, 8321, 8322, 8323, 8324, 8325, 8326, 8327, 8328, 8330, 8331, 8332, 8333, 8334, 8335, 8336, 8337, 8339, 8340, 8341, 8342, 8343, 8344, 8345, 8346, 8347, 8348, 8349, 8350, 8351, 8352, 8353, 8354, 8356, 8357, 8358, 8359, 8360, 8361, 8362, 8363, 8364, 8365, 8366, 8367, 8368, 8369, 8371, 8372, 8373, 8374, 8375, 8376, 8377, 8378, 8379, 8380, 8382, 8383, 8384, 8385, 8387, 8388, 8389, 8390, 8391, 8392, 8393, 8394, 8395, 8396, 8397, 8399, 8400, 8401, 8403, 8404, 8405, 8406, 8407, 8408, 8409, 8410, 8411, 8412, 8413, 8414, 8415, 8416, 8417, 8418, 8419, 8421, 8423, 8424, 8425, 8426, 8427, 8428, 8429, 8430, 8432, 8433, 8434, 8435, 8437, 8438, 8439, 8440, 8441, 8442, 8443, 8444, 8445, 8446, 8447, 8448, 8450, 8451, 8452, 8453, 8454, 8455, 8456, 8457, 8458, 8459, 8460, 8462, 8463, 8464, 8465, 8466, 8467, 8468, 8469, 8470, 8471, 8472, 8473, 8474, 8475, 8476, 8477, 8478, 8479, 8480, 8481, 8482, 8483, 8485, 8486, 8487, 8488, 8489, 8490, 8491, 8493, 8494, 8495, 8496, 8498, 8499, 8500, 8501, 8502, 8504, 8505, 8506, 8507, 8508, 8509, 8510, 8511, 8512, 8513, 8514, 8515, 8516, 8517, 8518, 8519, 8521, 8522, 8523, 8525, 8526, 8527, 8528, 8529, 8530, 8531, 8532, 8533, 8534, 8535, 8536, 8537, 8538, 8539, 8540, 8541, 8542, 8543, 8544, 8545, 8546, 8547, 8549, 8550, 8551, 8552, 8553, 8554, 8555, 8556, 8557, 8558, 8560, 8561, 8562, 8563, 8564, 8565, 8566, 8567, 8568, 8569, 8570, 8571, 8572, 8573, 8575, 8576, 8577, 8579, 8580, 8581, 8582, 8583, 8584, 8585, 8587, 8588, 8589, 8590, 8591, 8592, 8593, 8594, 8596, 8597, 8598, 8599, 8600, 8601, 8602, 8603, 8604, 8605, 8606, 8607, 8608, 8609, 8610, 8612, 8613, 8614, 8615, 8617, 8618, 8619, 8620, 8621, 8622, 8623, 8624, 8625, 8626, 8628, 8629, 8630, 8631, 8632, 8633, 8634, 8635, 8636, 8637, 8638, 8639, 8640, 8641, 8642, 8643, 8644, 8645, 8646, 8647, 8648, 8649, 8650, 8652, 8653, 8654, 8655, 8656, 8657, 8658, 8659, 8660, 8661, 8663, 8664, 8665, 8666, 8667, 8668, 8669, 8670, 8671, 8673, 8674, 8675, 8676, 8677, 8678, 8679, 8680, 8681, 8682, 8683, 8684, 8685, 8687, 8688, 8689, 8690, 8691, 8692, 8694, 8695, 8696, 8697, 8699, 8700, 8701, 8702, 8703, 8704, 8705, 8706, 8707, 8708, 8709, 8710, 8711, 8712, 8713, 8714, 8715, 8717, 8718, 8719, 8720, 8721, 8722, 8724, 8725, 8726, 8727, 8728, 8730, 8731, 8732, 8733, 8734, 8735, 8736, 8737, 8738, 8739, 8740, 8741, 8742, 8744, 8745, 8746, 8747, 8748, 8749, 8751, 8752, 8753, 8754, 8755, 8756, 8757, 8758, 8760, 8761, 8762, 8763, 8764, 8765, 8766, 8767, 8768, 8769, 8771, 8773, 8774, 8775, 8776, 8777, 8778, 8779, 8780, 8781, 8782, 8783, 8784, 8785, 8786, 8787, 8788, 8789, 8790, 8791, 8792, 8794, 8795, 8796, 8797, 8798, 8799, 8800, 8801, 8803, 8804, 8805, 8806, 8807, 8808, 8809, 8810, 8811, 8812, 8813, 8814, 8815, 8816, 8817, 8818, 8820, 8821, 8822, 8823, 8824, 8825, 8826, 8827, 8828, 8829, 8830, 8831, 8832, 8834, 8835, 8836, 8837, 8838, 8839, 8840, 8841, 8842, 8843, 8845, 8846, 8847, 8848, 8849, 8850, 8851, 8852, 8853, 8854, 8856, 8857, 8858, 8859, 8860, 8861, 8862, 8863, 8864, 8865, 8866, 8868, 8869, 8870, 8871, 8872, 8873, 8874, 8875, 8876, 8877, 8878, 8879, 8880, 8881, 8882, 8883, 8885, 8886, 8887, 8888, 8889, 8890, 8891, 8892, 8894, 8895, 8896, 8897, 8898, 8899, 8900, 8901, 8902, 8904, 8905, 8906, 8907, 8908, 8909, 8910, 8911, 8912, 8913, 8914, 8915, 8916, 8917, 8918, 8919, 8920, 8921, 8922, 8923, 8925, 8926, 8927, 8928, 8929, 8931, 8933, 8934, 8935, 8936, 8937, 8938, 8939, 8940, 8941, 8942, 8944, 8946, 8947, 8948, 8949, 8950, 8951, 8952, 8953, 8954, 8955, 8956, 8957, 8958, 8959, 8960, 8961, 8962, 8963, 8964, 8965, 8966, 8967, 8970, 8971, 8972, 8973, 8974, 8975, 8976, 8977, 8978, 8979, 8980, 8981, 8982, 8983, 8984, 8985, 8986, 8987, 8988, 8989, 8991, 8992, 8993, 8994, 8995, 8996, 8997, 8998, 8999, 9000, 9001, 9002, 9003, 9004, 9005, 9006, 9007, 9008, 9010, 9011, 9012, 9013, 9014, 9015, 9016, 9018, 9019, 9020, 9021, 9022, 9023, 9024, 9025, 9026, 9027, 9028, 9029, 9030, 9031, 9032, 9035, 9036, 9038, 9039, 9040, 9041, 9042, 9044, 9045, 9046, 9047, 9048, 9049, 9050, 9051, 9052, 9054, 9055, 9056, 9058, 9059, 9060, 9061, 9062, 9064, 9065, 9066, 9067, 9068, 9069, 9070, 9071, 9072, 9073, 9074, 9075, 9076, 9078, 9080, 9081, 9082, 9083, 9084, 9085, 9086, 9088, 9089, 9090, 9091, 9092, 9093, 9094, 9095, 9096, 9097, 9098, 9099, 9100, 9101, 9102, 9103, 9104, 9105, 9106, 9107, 9108, 9109, 9111, 9112, 9113, 9114, 9115, 9116, 9117, 9119, 9120, 9121, 9122, 9123, 9124, 9125, 9126, 9127, 9128, 9129, 9130, 9131, 9132, 9134, 9136, 9137, 9138, 9140, 9141, 9142, 9143, 9144, 9145, 9146, 9147, 9148, 9149, 9150, 9152, 9153, 9154, 9155, 9156, 9157, 9158, 9159, 9160, 9161, 9162, 9163, 9164, 9165, 9166, 9167, 9168, 9170, 9171, 9172, 9173, 9174, 9175, 9177, 9178, 9180, 9181, 9182, 9183, 9184, 9185, 9186, 9187, 9188, 9189, 9190, 9191, 9192, 9193, 9194, 9195, 9196, 9197, 9198, 9200, 9201, 9202, 9203, 9204, 9205, 9206, 9207, 9208, 9209, 9210, 9211, 9212, 9213, 9214, 9215, 9216, 9217, 9219, 9220, 9221, 9222, 9223, 9224, 9225, 9227, 9228, 9229, 9230, 9232, 9233, 9234, 9236, 9237, 9238, 9239, 9240, 9241, 9242, 9245, 9246, 9247, 9248, 9249, 9250, 9251, 9253, 9254, 9255, 9256, 9257, 9258, 9260, 9261, 9262, 9263, 9264, 9265, 9266, 9267, 9268, 9269, 9270, 9271, 9273, 9274, 9275, 9276, 9277, 9278, 9279, 9280, 9282, 9283, 9284, 9286, 9287, 9288, 9289, 9290, 9291, 9292, 9293, 9294, 9295, 9296, 9297, 9298, 9299, 9300, 9301, 9302, 9303, 9304, 9306, 9307, 9308, 9309, 9310, 9311, 9314, 9315, 9316, 9317, 9318, 9319, 9320, 9321, 9322, 9324, 9325, 9326, 9327, 9328, 9329, 9330, 9332, 9333, 9334, 9335, 9336, 9337, 9338, 9339, 9340, 9341, 9342, 9343, 9344, 9345, 9346, 9347, 9348, 9349, 9350, 9351, 9352, 9353, 9355, 9356, 9357, 9358, 9359, 9361, 9362, 9363, 9364, 9365, 9367, 9368, 9369, 9370, 9371, 9372, 9373, 9374, 9375, 9376, 9377, 9378, 9379, 9380, 9381, 9383, 9384, 9385, 9386, 9387, 9388, 9389, 9390, 9391, 9392, 9393, 9394, 9395, 9397, 9398, 9399, 9400, 9401, 9402, 9403, 9404, 9405, 9406, 9407, 9408, 9409, 9410, 9411, 9412, 9413, 9414, 9415, 9416, 9417, 9418, 9419, 9420, 9421, 9423, 9424, 9425, 9426, 9427, 9428, 9429, 9430, 9431, 9432, 9434, 9435, 9436, 9437, 9438, 9441, 9442, 9443, 9444, 9445, 9446, 9447, 9448, 9449, 9451, 9453, 9454, 9455, 9456, 9457, 9458, 9459, 9460, 9461, 9462, 9463, 9464, 9465, 9466, 9467, 9468, 9469, 9470, 9471, 9473, 9474, 9476, 9477, 9478, 9479, 9480, 9481, 9482, 9483, 9484, 9485, 9486, 9487, 9488, 9489, 9490, 9491, 9493, 9494, 9495, 9496, 9497, 9498, 9499, 9500, 9501, 9502, 9503, 9505, 9506, 9507, 9508, 9509, 9510, 9512, 9513, 9514, 9515, 9516, 9517, 9518, 9519, 9520, 9521, 9522, 9523, 9524, 9525, 9526, 9527, 9528, 9529, 9531, 9532, 9533, 9534, 9535, 9536, 9537, 9538, 9539, 9540, 9541, 9542, 9543, 9544, 9546, 9547, 9548, 9549, 9550, 9551, 9552, 9553, 9555, 9556, 9557, 9558, 9559, 9560, 9561, 9562, 9563, 9564, 9565, 9566, 9567, 9568, 9569, 9570, 9571, 9572, 9573, 9574, 9575, 9576, 9577, 9578, 9580, 9581, 9583, 9584, 9585, 9587, 9588, 9589, 9590, 9591, 9592, 9593, 9594, 9595, 9596, 9597, 9599, 9600, 9601, 9602, 9603, 9604, 9605, 9606, 9607, 9608, 9609, 9610, 9611, 9612, 9613, 9614, 9615, 9616, 9617, 9618, 9619, 9620, 9623, 9624, 9625, 9626, 9627, 9628, 9629, 9630, 9631, 9632, 9633, 9634, 9635, 9636, 9637, 9638, 9639, 9640, 9641, 9642, 9643, 9645, 9646, 9647, 9648, 9650, 9651, 9652, 9653, 9654, 9655, 9657, 9658, 9659, 9660, 9661, 9662, 9663, 9664, 9665, 9666, 9667, 9668, 9669, 9671, 9672, 9673, 9674, 9676, 9677, 9678, 9679, 9682, 9683, 9684, 9685, 9686, 9687, 9688, 9689, 9691, 9692, 9693, 9694, 9695, 9696, 9697, 9698, 9700, 9701, 9702, 9704, 9705, 9706, 9707, 9708, 9709, 9711, 9712, 9713, 9714, 9715, 9716, 9717, 9718, 9719, 9720, 9721, 9723, 9724, 9725, 9726, 9727, 9728, 9729, 9730, 9733, 9734, 9736, 9737, 9738, 9739, 9740, 9741, 9742, 9743, 9744, 9745, 9746, 9747, 9748, 9749, 9750, 9751, 9752, 9753, 9754, 9755, 9756, 9757, 9758, 9760, 9761, 9762, 9763, 9764, 9765, 9766, 9767, 9768, 9769, 9770, 9771, 9772, 9774, 9775, 9776, 9777, 9778, 9779, 9780, 9781, 9783, 9784, 9785, 9786, 9787, 9788, 9789, 9790, 9792, 9794, 9795, 9796, 9797, 9798, 9799, 9800, 9802, 9803, 9804, 9805, 9806, 9807, 9808, 9809, 9810, 9811, 9812, 9813, 9814, 9815, 9816, 9818, 9819, 9820, 9821, 9822, 9823, 9824, 9825, 9826, 9827, 9828, 9829, 9830, 9831, 9832, 9833, 9834, 9835, 9836, 9837, 9838, 9839, 9841, 9842, 9843, 9844, 9845, 9846, 9847, 9849, 9850, 9851, 9852, 9853, 9854, 9855, 9857, 9858, 9859, 9860, 9861, 9862, 9863, 9864, 9865, 9866, 9867, 9868, 9869, 9870, 9871, 9872, 9874, 9875, 9876, 9877, 9878, 9879, 9880, 9881, 9882, 9884, 9885, 9886, 9888, 9889, 9890, 9891, 9892, 9893, 9895, 9896, 9897, 9898, 9899, 9900, 9902, 9903, 9904, 9905, 9906, 9907, 9908, 9909, 9910, 9911, 9912, 9913, 9914, 9915, 9916, 9917, 9918, 9919, 9921, 9922, 9923, 9924, 9925, 9926, 9927, 9928, 9929, 9930, 9932, 9933, 9934, 9936, 9937, 9938, 9939, 9940, 9941, 9942, 9943, 9944, 9945, 9946, 9947, 9948, 9949, 9950, 9951, 9952, 9953, 9954, 9955, 9956, 9957, 9958, 9959, 9960, 9962, 9963, 9964, 9966, 9967, 9968, 9969, 9970, 9971, 9972, 9973, 9974, 9975, 9976, 9977, 9978, 9979, 9980, 9981, 9982, 9983, 9984, 9985, 9986, 9987, 9988, 9990, 9991, 9992, 9993, 9994, 9996, 9997, 9998, 10001, 10002, 10003, 10004, 10005, 10006, 10007, 10008, 10009, 10010, 10011, 10012, 10013, 10014, 10015, 10016, 10017, 10018, 10019, 10020, 10021, 10022, 10023, 10024, 10025, 10026, 10027, 10029, 10030, 10031, 10033, 10034, 10035, 10036, 10037, 10038, 10039, 10040, 10041, 10042, 10043, 10044, 10045, 10046, 10047, 10049, 10050, 10051, 10052, 10054, 10055, 10056, 10057, 10058, 10059, 10060, 10061, 10062, 10063, 10065, 10066, 10067, 10068, 10069, 10070, 10071, 10072, 10073, 10074, 10075, 10076, 10079, 10080, 10081, 10082, 10083, 10084, 10086, 10087, 10088, 10089, 10091, 10092, 10093, 10094, 10095, 10096, 10097, 10098, 10099, 10100, 10102, 10103, 10104, 10105, 10107, 10108, 10109, 10110, 10111, 10112, 10113, 10114, 10115, 10116, 10117, 10118, 10119, 10120, 10121, 10122, 10123, 10125, 10126, 10127, 10128, 10129, 10130, 10131, 10132, 10133, 10135, 10136, 10137, 10138, 10139, 10140, 10142, 10143, 10144, 10145, 10146, 10147, 10148, 10149, 10150, 10151, 10152, 10153, 10154, 10156, 10157, 10158, 10159, 10160, 10161, 10162, 10163, 10164, 10165, 10166, 10167, 10168, 10169, 10170, 10171, 10172, 10173, 10174, 10175, 10176, 10178, 10179, 10180, 10181, 10182, 10183, 10184, 10186, 10187, 10188, 10189, 10190, 10191, 10192, 10193, 10194, 10195, 10197, 10198, 10199, 10200, 10201, 10202, 10203, 10204, 10205, 10206, 10207, 10210, 10211, 10212, 10213, 10214, 10215, 10216, 10218, 10219, 10220, 10221, 10222, 10223, 10224, 10225, 10226, 10227, 10228, 10229, 10230, 10231, 10232, 10234, 10235, 10236, 10237, 10238, 10239, 10240, 10241, 10242, 10243, 10245, 10246, 10247, 10248, 10249, 10250, 10251, 10252, 10253, 10254, 10256, 10257, 10258, 10260, 10261, 10262, 10263, 10264, 10265, 10266, 10267, 10268, 10269, 10270, 10271, 10272, 10273, 10274, 10275, 10276, 10277, 10279, 10280, 10281, 10283, 10284, 10285, 10286, 10287, 10289, 10290, 10291, 10292, 10293, 10294, 10295, 10296, 10297, 10298, 10299, 10300, 10301, 10302, 10303, 10304, 10305, 10306, 10307, 10308, 10310, 10311, 10312, 10313, 10315, 10316, 10317, 10318, 10319, 10320, 10321, 10322, 10323, 10324, 10325, 10326, 10327, 10328, 10329, 10330, 10331, 10332, 10333, 10334, 10335, 10336, 10337, 10338, 10339, 10340, 10341, 10342, 10345, 10346, 10347, 10348, 10349, 10350, 10351, 10352, 10353, 10354, 10355, 10356, 10358, 10359, 10360, 10362, 10363, 10364, 10366, 10367, 10368, 10369, 10370, 10371, 10372, 10373, 10374, 10375, 10376, 10377, 10378, 10380, 10381, 10382, 10383, 10384, 10385, 10387, 10388, 10390, 10392, 10393, 10394, 10395, 10396, 10397, 10398, 10399, 10400, 10401, 10402, 10403, 10404, 10405, 10406, 10407, 10408, 10409, 10412, 10413, 10414, 10415, 10416, 10417, 10418, 10419, 10420, 10421, 10422, 10423, 10424, 10425, 10426, 10427, 10428, 10429, 10430, 10431, 10432, 10433, 10434, 10435, 10437, 10438, 10439, 10440, 10441, 10442, 10443, 10444, 10445, 10446, 10447, 10449, 10450, 10451, 10452, 10453, 10454, 10456, 10458, 10459, 10460, 10461, 10463, 10464, 10465, 10466, 10467, 10468, 10469, 10470, 10471, 10472, 10473, 10474, 10475, 10476, 10478, 10479, 10480, 10481, 10482, 10483, 10484, 10485, 10486, 10487, 10488, 10489, 10491, 10492, 10493, 10494, 10495, 10496, 10497, 10498, 10499, 10500, 10501, 10503, 10504, 10505, 10507, 10508, 10510, 10511, 10513, 10514, 10515, 10516, 10517, 10518, 10519, 10520, 10521, 10522, 10524, 10525, 10526, 10527, 10528, 10529, 10531, 10532, 10533, 10534, 10535, 10536, 10537, 10538, 10539, 10540, 10541, 10542, 10543, 10544, 10545, 10546, 10547, 10548, 10549, 10551, 10552, 10553, 10554, 10555, 10556, 10557, 10559, 10560, 10561, 10562, 10563, 10564, 10565, 10566, 10567, 10568, 10569, 10570, 10571, 10572, 10573, 10574, 10575, 10576, 10578, 10579, 10580, 10581, 10582, 10583, 10584, 10586, 10587, 10588, 10589, 10590, 10591, 10592, 10593, 10594, 10595, 10596, 10597, 10598, 10599, 10600, 10601, 10602, 10604, 10605, 10606, 10607, 10609, 10610, 10612, 10613, 10614, 10615, 10616, 10617, 10618, 10619, 10620, 10621, 10622, 10624, 10626, 10627, 10628, 10629, 10630, 10631, 10632, 10633, 10634, 10635, 10636, 10637, 10638, 10639, 10640, 10641, 10642, 10643, 10644, 10645, 10646, 10647, 10648, 10649, 10650, 10651, 10652, 10653, 10654, 10655, 10656, 10658, 10659, 10660, 10661, 10662, 10663, 10664, 10665, 10666, 10667, 10668, 10670, 10671, 10672, 10673, 10674, 10675, 10677, 10678, 10679, 10680, 10681, 10682, 10683, 10684, 10685, 10686, 10688, 10689, 10690, 10692, 10693, 10694, 10695, 10696, 10697, 10698, 10699, 10700, 10701, 10702, 10703, 10705, 10706, 10707, 10708, 10709, 10710, 10711, 10712, 10713, 10714, 10716, 10717, 10718, 10719, 10720, 10721, 10722, 10723, 10724, 10725, 10726, 10728, 10729, 10730, 10732, 10733, 10734, 10735, 10736, 10737, 10738, 10740, 10741, 10742, 10743, 10744, 10745, 10746, 10747, 10748, 10749, 10750, 10751, 10752, 10753, 10754, 10755, 10756, 10757, 10758, 10760, 10761, 10762, 10764, 10765, 10766, 10767, 10768, 10770, 10771, 10772, 10774, 10775, 10776, 10777, 10778, 10779, 10780, 10781, 10782, 10784, 10785, 10786, 10787, 10788, 10789, 10790, 10791, 10792, 10793, 10794, 10795, 10796, 10797, 10798, 10799, 10800, 10801, 10802, 10803, 10804, 10805, 10806, 10807, 10808, 10810, 10811, 10812, 10813, 10814, 10815, 10816, 10817, 10818, 10819, 10820, 10821, 10822, 10823, 10824, 10825, 10826, 10827, 10828, 10829, 10830, 10832, 10834, 10835, 10836, 10837, 10838, 10840, 10841, 10842, 10843, 10844, 10845, 10846, 10847, 10848, 10849, 10850, 10851, 10852, 10853, 10854, 10855, 10856, 10857, 10858, 10859, 10860, 10861, 10863, 10864, 10866, 10867, 10868, 10869, 10870, 10871, 10872, 10873, 10874, 10875, 10876, 10877, 10879, 10880, 10882, 10883, 10884, 10885, 10886, 10887, 10888, 10889, 10891, 10892, 10893, 10894, 10895, 10896, 10897, 10898, 10899, 10900, 10901, 10902, 10903, 10904, 10905, 10906, 10908, 10909, 10911, 10912, 10913, 10914, 10915, 10916, 10917, 10918, 10919, 10920, 10922, 10923, 10924, 10925, 10926, 10927, 10928, 10929, 10930, 10931, 10934, 10935, 10936, 10937, 10938, 10939, 10940, 10941, 10942, 10943, 10944, 10945, 10946, 10947, 10948, 10949, 10950, 10951, 10952, 10953, 10954, 10956, 10958, 10959, 10960, 10961, 10962, 10963, 10964, 10965, 10966, 10967, 10968, 10969, 10971, 10972, 10973, 10974, 10975, 10976, 10977, 10978, 10979, 10980, 10981, 10982, 10984, 10986, 10987, 10988, 10989, 10990, 10991, 10992, 10993, 10994, 10995, 10996, 10997, 10999, 11000, 11001, 11002, 11003, 11004, 11005, 11006, 11007, 11009, 11010, 11011, 11012, 11013, 11014, 11015, 11016, 11017, 11018, 11019, 11020, 11022, 11023, 11025, 11026, 11027, 11028, 11029, 11030, 11031, 11032, 11033, 11034, 11035, 11036, 11037, 11038, 11039, 11040, 11041, 11042, 11043, 11044, 11045, 11046, 11048, 11049, 11050, 11051, 11052, 11053, 11054, 11055, 11056, 11058, 11059, 11060, 11061, 11062, 11063, 11064, 11065, 11066, 11067, 11068, 11070, 11071, 11072, 11074, 11075, 11076, 11077, 11078, 11079, 11080, 11081, 11082, 11083, 11084, 11085, 11086, 11089, 11090, 11091, 11093, 11094, 11095, 11096, 11097, 11098, 11099, 11100, 11101, 11102, 11103, 11104, 11105, 11106, 11107, 11108, 11109, 11110, 11111, 11112, 11113, 11114, 11116, 11117, 11118, 11120, 11122, 11123, 11124, 11125, 11126, 11127, 11128, 11129, 11130, 11131, 11132, 11133, 11134, 11135, 11136, 11137, 11138, 11139, 11140, 11141, 11142, 11143, 11144, 11146, 11147, 11148, 11149, 11150, 11151, 11154, 11155, 11156, 11157, 11158, 11160, 11161, 11162, 11163, 11164, 11165, 11166, 11167, 11168, 11169, 11170, 11171, 11172, 11173, 11174, 11175, 11176, 11177, 11178, 11179, 11180, 11181, 11182, 11183, 11184, 11185, 11186, 11189, 11191, 11192, 11193, 11194, 11195, 11196, 11197, 11198, 11199, 11200, 11201, 11202, 11203, 11204, 11205, 11206, 11209, 11210, 11211, 11212, 11213, 11214, 11215, 11216, 11217, 11218, 11219, 11220, 11222, 11223, 11224, 11225, 11226, 11227, 11228, 11229, 11230, 11231, 11232, 11233, 11234, 11235, 11236, 11238, 11239, 11241, 11242, 11243, 11244, 11245, 11246, 11247, 11248, 11249, 11250, 11251, 11252, 11253, 11254, 11255, 11256, 11257, 11258, 11259, 11260, 11261, 11262, 11263, 11264, 11265, 11266, 11267, 11268, 11269, 11270, 11271, 11272, 11273, 11274, 11275, 11277, 11278, 11279, 11280, 11282, 11284, 11285, 11286, 11287, 11288, 11289, 11290, 11291, 11292, 11293, 11295, 11297, 11299, 11300, 11301, 11302, 11303, 11305, 11306, 11307, 11308, 11309, 11310, 11311, 11312, 11313, 11314, 11315, 11316, 11317, 11318, 11319, 11320, 11321, 11322, 11323, 11324, 11326, 11327, 11328, 11329, 11330, 11331, 11332, 11333, 11334, 11335, 11336, 11338, 11339, 11340, 11341, 11343, 11344, 11345, 11346, 11347, 11348, 11349, 11350, 11351, 11352, 11353, 11354, 11355, 11356, 11357, 11358, 11359, 11360, 11361, 11362, 11363, 11364, 11365, 11366, 11367, 11368, 11369, 11370, 11371, 11372, 11374, 11375, 11377, 11378, 11379, 11380, 11381, 11382, 11383, 11384, 11385, 11386, 11387, 11388, 11389, 11390, 11391, 11392, 11393, 11394, 11395, 11396, 11397, 11399, 11401, 11402, 11403, 11404, 11405, 11406, 11408, 11409, 11410, 11411, 11412, 11413, 11414, 11415, 11416, 11417, 11418, 11419, 11420, 11422, 11423, 11424, 11426, 11427, 11428, 11429, 11430, 11431, 11432, 11433, 11434, 11435, 11436, 11437, 11438, 11439, 11440, 11443, 11444, 11445, 11446, 11447, 11448, 11449, 11450, 11452, 11453, 11454, 11455, 11456, 11457, 11458, 11459, 11460, 11461, 11462, 11463, 11464, 11465, 11466, 11467, 11468, 11469, 11470, 11471, 11472, 11473, 11474, 11476, 11477, 11478, 11479, 11480, 11481, 11483, 11484, 11485, 11486, 11487, 11488, 11489, 11490, 11491, 11492, 11493, 11495, 11496, 11497, 11498, 11499, 11500, 11501, 11503, 11504, 11505, 11506, 11507, 11508, 11509, 11511, 11512, 11513, 11514, 11515, 11516, 11517, 11519, 11520, 11521, 11522, 11523, 11524, 11525, 11526, 11527, 11528, 11529, 11530, 11531, 11532, 11533, 11534, 11535, 11537, 11538, 11540, 11542, 11543, 11544, 11545, 11546, 11547, 11548, 11550, 11551, 11552, 11553, 11554, 11555, 11556, 11557, 11558, 11559, 11560, 11561, 11562, 11563, 11564, 11565, 11566, 11567, 11568, 11569, 11571, 11573, 11574, 11575, 11576, 11577, 11578, 11579, 11580, 11581, 11585, 11586, 11587, 11588, 11589, 11590, 11591, 11592, 11593, 11594, 11595, 11597, 11598, 11599, 11600, 11601, 11602, 11603, 11604, 11605, 11606, 11607, 11608, 11609, 11612, 11613, 11614, 11615, 11616, 11617, 11618, 11619, 11621, 11622, 11623, 11624, 11625, 11626, 11627, 11629, 11630, 11631, 11632, 11633, 11634, 11635, 11636, 11637, 11638, 11639, 11640, 11641, 11642, 11643, 11644, 11645, 11646, 11647, 11648, 11649, 11650, 11651, 11652, 11653, 11654, 11655, 11656, 11657, 11658, 11660, 11661, 11662, 11663, 11664, 11665, 11666, 11667, 11669, 11670, 11671, 11672, 11673, 11674, 11676, 11677, 11678, 11679, 11680, 11681, 11682, 11683, 11684, 11686, 11687, 11688, 11690, 11691, 11692, 11693, 11694, 11695, 11696, 11697, 11698, 11699, 11700, 11701, 11702, 11703, 11704, 11705, 11706, 11707, 11708, 11709, 11710, 11711, 11712, 11713, 11715, 11717, 11718, 11719, 11720, 11721, 11722, 11723, 11724, 11725, 11726, 11727, 11728, 11729, 11730, 11731, 11732, 11734, 11735, 11736, 11737, 11738, 11739, 11740, 11741, 11742, 11743, 11745, 11747, 11749, 11750, 11751, 11752, 11753, 11754, 11755, 11756, 11757, 11758, 11759, 11760, 11761, 11762, 11763, 11764, 11765, 11766, 11767, 11768, 11771, 11772, 11773, 11774, 11775, 11776, 11777, 11778, 11779, 11780, 11781, 11782, 11783, 11784, 11785, 11786, 11788, 11789, 11790, 11791, 11792, 11793, 11794, 11795, 11796, 11797, 11798, 11799, 11800, 11802, 11803, 11804, 11805, 11806, 11807, 11808, 11810, 11812, 11813, 11814, 11815, 11816, 11817, 11818, 11819, 11822, 11823, 11824, 11825, 11826, 11827, 11828, 11829, 11830, 11831, 11834, 11835, 11836, 11837, 11838, 11839, 11840, 11841, 11843, 11844, 11845, 11846, 11847, 11848, 11850, 11851, 11852, 11853, 11854, 11857, 11859, 11860, 11861, 11862, 11863, 11864, 11865, 11866, 11867, 11868, 11869, 11871, 11872, 11873, 11874, 11875, 11877, 11878, 11879, 11880, 11881, 11882, 11883, 11884, 11885, 11886, 11887, 11888, 11889, 11890, 11891, 11892, 11893, 11894, 11895, 11897, 11898, 11899, 11901, 11902, 11903, 11904, 11905, 11906, 11907, 11908, 11910, 11911, 11912, 11913, 11914, 11915, 11916, 11917, 11918, 11919, 11920, 11921, 11922, 11923, 11924, 11925, 11928, 11929, 11930, 11931, 11932, 11933, 11934, 11935, 11936, 11937, 11938, 11939, 11940, 11941, 11942, 11943, 11944]\n",
            "[12, 14, 28, 36, 43, 63, 78, 82, 86, 113, 124, 128, 130, 150, 165, 171, 179, 201, 204, 215, 232, 236, 241, 247, 261, 269, 285, 291, 308, 310, 325, 326, 335, 337, 357, 363, 379, 382, 385, 393, 414, 433, 436, 444, 464, 481, 493, 498, 500, 503, 522, 525, 527, 544, 560, 574, 575, 578, 590, 592, 616, 623, 645, 651, 661, 663, 667, 684, 699, 709, 711, 720, 733, 737, 746, 763, 780, 795, 800, 814, 817, 820, 841, 853, 854, 859, 870, 891, 898, 906, 922, 931, 932, 935, 970, 973, 984, 1002, 1006, 1011, 1026, 1043, 1047, 1052, 1062, 1066, 1072, 1081, 1095, 1108, 1135, 1137, 1138, 1161, 1171, 1178, 1198, 1208, 1209, 1215, 1216, 1237, 1250, 1261, 1273, 1276, 1301, 1302, 1328, 1334, 1348, 1354, 1370, 1374, 1394, 1403, 1407, 1410, 1419, 1420, 1429, 1432, 1456, 1475, 1477, 1483, 1489, 1495, 1498, 1515, 1524, 1535, 1553, 1558, 1562, 1586, 1587, 1592, 1608, 1615, 1624, 1639, 1641, 1643, 1671, 1672, 1681, 1686, 1709, 1713, 1730, 1744, 1753, 1761, 1767, 1782, 1788, 1798, 1799, 1829, 1834, 1844, 1848, 1854, 1869, 1881, 1884, 1908, 1914, 1921, 1926, 1941, 1952, 1971, 1973, 1974, 1985, 2005, 2020, 2023, 2027, 2036, 2052, 2067, 2083, 2094, 2107, 2108, 2118, 2136, 2140, 2154, 2163, 2175, 2178, 2183, 2209, 2211, 2221, 2225, 2230, 2243, 2261, 2272, 2273, 2298, 2307, 2308, 2325, 2328, 2351, 2355, 2356, 2363, 2367, 2392, 2414, 2415, 2420, 2430, 2440, 2467, 2472, 2477, 2484, 2488, 2499, 2508, 2522, 2527, 2529, 2546, 2549, 2557, 2568, 2587, 2596, 2600, 2611, 2624, 2627, 2649, 2662, 2668, 2689, 2693, 2696, 2703, 2713, 2721, 2736, 2750, 2751, 2766, 2770, 2774, 2782, 2800, 2807, 2826, 2829, 2847, 2850, 2864, 2882, 2888, 2892, 2907, 2917, 2925, 2936, 2964, 2973, 2975, 2979, 2986, 3003, 3019, 3020, 3030, 3031, 3060, 3067, 3068, 3081, 3094, 3117, 3122, 3126, 3128, 3142, 3163, 3176, 3185, 3194, 3199, 3202, 3218, 3226, 3252, 3269, 3277, 3287, 3295, 3311, 3323, 3329, 3331, 3347, 3351, 3353, 3354, 3361, 3362, 3377, 3378, 3388, 3390, 3396, 3419, 3426, 3427, 3437, 3441, 3474, 3478, 3492, 3505, 3513, 3518, 3535, 3541, 3548, 3559, 3580, 3592, 3597, 3605, 3607, 3618, 3641, 3651, 3653, 3655, 3666, 3682, 3698, 3703, 3727, 3739, 3745, 3746, 3756, 3767, 3783, 3790, 3797, 3803, 3822, 3837, 3840, 3853, 3867, 3869, 3886, 3907, 3914, 3922, 3924, 3926, 3940, 3945, 3947, 3964, 3977, 3990, 3999, 4000, 4028, 4029, 4041, 4059, 4073, 4084, 4093, 4097, 4110, 4130, 4133, 4142, 4144, 4161, 4166, 4171, 4185, 4188, 4203, 4211, 4222, 4240, 4248, 4257, 4264, 4272, 4286, 4296, 4311, 4340, 4345, 4350, 4366, 4369, 4372, 4389, 4402, 4414, 4418, 4426, 4439, 4452, 4460, 4467, 4481, 4485, 4488, 4497, 4505, 4515, 4529, 4545, 4557, 4560, 4569, 4585, 4595, 4596, 4619, 4636, 4637, 4646, 4649, 4657, 4670, 4678, 4686, 4709, 4716, 4723, 4740, 4749, 4757, 4759, 4761, 4789, 4790, 4798, 4810, 4828, 4840, 4847, 4859, 4863, 4878, 4886, 4899, 4904, 4913, 4915, 4926, 4941, 4964, 4971, 4973, 4980, 4994, 5011, 5019, 5045, 5048, 5050, 5058, 5064, 5070, 5097, 5111, 5120, 5129, 5142, 5147, 5162, 5165, 5168, 5186, 5195, 5206, 5213, 5222, 5226, 5235, 5264, 5269, 5282, 5285, 5298, 5311, 5324, 5329, 5333, 5346, 5352, 5370, 5384, 5387, 5394, 5401, 5412, 5420, 5432, 5444, 5450, 5456, 5477, 5478, 5499, 5500, 5510, 5521, 5525, 5533, 5551, 5552, 5566, 5574, 5598, 5609, 5630, 5635, 5639, 5645, 5656, 5667, 5678, 5679, 5692, 5707, 5713, 5717, 5720, 5737, 5741, 5754, 5764, 5766, 5773, 5801, 5807, 5825, 5829, 5833, 5847, 5864, 5874, 5884, 5896, 5905, 5915, 5925, 5926, 5945, 5954, 5968, 5977, 5982, 5991, 6001, 6010, 6027, 6038, 6039, 6042, 6064, 6077, 6087, 6095, 6106, 6115, 6121, 6138, 6140, 6158, 6170, 6180, 6184, 6196, 6222, 6223, 6231, 6240, 6257, 6260, 6266, 6271, 6276, 6285, 6293, 6312, 6316, 6317, 6335, 6343, 6354, 6378, 6379, 6389, 6401, 6406, 6408, 6429, 6447, 6463, 6464, 6482, 6489, 6505, 6510, 6518, 6524, 6525, 6527, 6533, 6538, 6542, 6559, 6570, 6574, 6588, 6589, 6598, 6608, 6610, 6640, 6643, 6654, 6663, 6668, 6676, 6686, 6702, 6713, 6717, 6719, 6734, 6755, 6768, 6790, 6791, 6797, 6804, 6808, 6825, 6836, 6845, 6860, 6863, 6869, 6885, 6904, 6911, 6924, 6932, 6938, 6943, 6954, 6970, 6983, 6994, 7008, 7012, 7016, 7027, 7036, 7057, 7064, 7074, 7079, 7082, 7101, 7109, 7125, 7147, 7150, 7172, 7173, 7178, 7191, 7199, 7213, 7221, 7235, 7241, 7256, 7261, 7289, 7299, 7303, 7308, 7309, 7320, 7323, 7344, 7354, 7359, 7372, 7384, 7397, 7404, 7415, 7431, 7441, 7452, 7457, 7460, 7470, 7473, 7487, 7511, 7515, 7529, 7541, 7543, 7546, 7548, 7554, 7556, 7576, 7594, 7598, 7609, 7612, 7613, 7632, 7649, 7650, 7668, 7670, 7675, 7701, 7715, 7724, 7727, 7740, 7756, 7763, 7772, 7777, 7779, 7786, 7798, 7803, 7808, 7831, 7834, 7858, 7859, 7867, 7888, 7890, 7908, 7914, 7934, 7940, 7943, 7965, 7966, 7975, 7982, 7985, 8010, 8014, 8037, 8042, 8049, 8057, 8062, 8073, 8083, 8098, 8103, 8112, 8122, 8129, 8141, 8150, 8174, 8178, 8186, 8202, 8209, 8223, 8225, 8232, 8256, 8269, 8270, 8272, 8282, 8293, 8297, 8306, 8317, 8320, 8329, 8338, 8355, 8370, 8381, 8386, 8398, 8402, 8420, 8422, 8431, 8436, 8449, 8461, 8484, 8492, 8497, 8503, 8520, 8524, 8548, 8559, 8574, 8578, 8586, 8595, 8611, 8616, 8627, 8651, 8662, 8672, 8686, 8693, 8698, 8716, 8723, 8729, 8743, 8750, 8759, 8770, 8772, 8793, 8802, 8819, 8833, 8844, 8855, 8867, 8884, 8893, 8903, 8924, 8930, 8932, 8943, 8945, 8968, 8969, 8990, 9009, 9017, 9033, 9034, 9037, 9043, 9053, 9057, 9063, 9077, 9079, 9087, 9110, 9118, 9133, 9135, 9139, 9151, 9169, 9176, 9179, 9199, 9218, 9226, 9231, 9235, 9243, 9244, 9252, 9259, 9272, 9281, 9285, 9305, 9312, 9313, 9323, 9331, 9354, 9360, 9366, 9382, 9396, 9422, 9433, 9439, 9440, 9450, 9452, 9472, 9475, 9492, 9504, 9511, 9530, 9545, 9554, 9579, 9582, 9586, 9598, 9621, 9622, 9644, 9649, 9656, 9670, 9675, 9680, 9681, 9690, 9699, 9703, 9710, 9722, 9731, 9732, 9735, 9759, 9773, 9782, 9791, 9793, 9801, 9817, 9840, 9848, 9856, 9873, 9883, 9887, 9894, 9901, 9920, 9931, 9935, 9961, 9965, 9989, 9995, 9999, 10000, 10028, 10032, 10048, 10053, 10064, 10077, 10078, 10085, 10090, 10101, 10106, 10124, 10134, 10141, 10155, 10177, 10185, 10196, 10208, 10209, 10217, 10233, 10244, 10255, 10259, 10278, 10282, 10288, 10309, 10314, 10343, 10344, 10357, 10361, 10365, 10379, 10386, 10389, 10391, 10410, 10411, 10436, 10448, 10455, 10457, 10462, 10477, 10490, 10502, 10506, 10509, 10512, 10523, 10530, 10550, 10558, 10577, 10585, 10603, 10608, 10611, 10623, 10625, 10657, 10669, 10676, 10687, 10691, 10704, 10715, 10727, 10731, 10739, 10759, 10763, 10769, 10773, 10783, 10809, 10831, 10833, 10839, 10862, 10865, 10878, 10881, 10890, 10907, 10910, 10921, 10932, 10933, 10955, 10957, 10970, 10983, 10985, 10998, 11008, 11021, 11024, 11047, 11057, 11069, 11073, 11087, 11088, 11092, 11115, 11119, 11121, 11145, 11152, 11153, 11159, 11187, 11188, 11190, 11207, 11208, 11221, 11237, 11240, 11276, 11281, 11283, 11294, 11296, 11298, 11304, 11325, 11337, 11342, 11373, 11376, 11398, 11400, 11407, 11421, 11425, 11441, 11442, 11451, 11475, 11482, 11494, 11502, 11510, 11518, 11536, 11539, 11541, 11549, 11570, 11572, 11582, 11583, 11584, 11596, 11610, 11611, 11620, 11628, 11659, 11668, 11675, 11685, 11689, 11714, 11716, 11733, 11744, 11746, 11748, 11769, 11770, 11787, 11801, 11809, 11811, 11820, 11821, 11832, 11833, 11842, 11849, 11855, 11856, 11858, 11870, 11876, 11896, 11900, 11909, 11926, 11927]\n"
          ]
        }
      ]
    },
    {
      "cell_type": "code",
      "source": [
        "df_train_splitted = df_2.iloc[trainidx].reset_index(drop=True)\n",
        "df_test_splitted = df_2.iloc[testidx].reset_index(drop=True)\n",
        "print('train data: ', len(df_train_splitted), 'testid data: ', len(df_test_splitted))\n",
        "\n",
        "X_train = df_train_splitted.image_url\n",
        "X_test = df_test_splitted.image_url"
      ],
      "metadata": {
        "colab": {
          "base_uri": "https://localhost:8080/"
        },
        "id": "oDAFEexSnQfc",
        "outputId": "3fa02092-0525-460d-b1d1-7b4bbd14ad3b"
      },
      "execution_count": 12,
      "outputs": [
        {
          "output_type": "stream",
          "name": "stdout",
          "text": [
            "train data:  10755 testid data:  1190\n"
          ]
        }
      ]
    },
    {
      "cell_type": "code",
      "source": [
        "print(len(df_train_splitted.explode('label')))\n",
        "print(len(df_test_splitted.explode('label')))"
      ],
      "metadata": {
        "colab": {
          "base_uri": "https://localhost:8080/"
        },
        "id": "K3v7bp0sVwTj",
        "outputId": "945e2fcb-0fe0-4d16-9d80-5f7db4cf3f7d"
      },
      "execution_count": 13,
      "outputs": [
        {
          "output_type": "stream",
          "name": "stdout",
          "text": [
            "15392\n",
            "1718\n"
          ]
        }
      ]
    },
    {
      "cell_type": "markdown",
      "source": [
        "### Pipeline"
      ],
      "metadata": {
        "id": "7Cib8FV3CmWx"
      }
    },
    {
      "cell_type": "code",
      "source": [
        "# Define classifier \n",
        "classifier = CalibratedClassifierCV(xgb.XGBClassifier(scale_pos_weight=50, random_state=42, eval_metric='mlogloss'))"
      ],
      "metadata": {
        "id": "kmoyY5SsChTw"
      },
      "execution_count": 14,
      "outputs": []
    },
    {
      "cell_type": "code",
      "source": [
        "# for each category train the model and get accuracy, auc\n",
        "models = {}\n",
        "features = {}\n",
        "preds = {}\n",
        "for category in categories:\n",
        "    # give pipelines unique names.\n",
        "    SVC_pipeline = Pipeline([\n",
        "        (f'tfidf_{category}', TfidfVectorizer()),\n",
        "        (f'clf_{category}', OneVsRestClassifier(classifier, n_jobs=1)),\n",
        "    ])\n",
        "    print('... Processing {}'.format(category))\n",
        "\n",
        "    # train the model using X_dtm & y\n",
        "    SVC_pipeline.fit(X_train, df_train_splitted[category])\n",
        "    models[category] = SVC_pipeline\n",
        "\n",
        "    # compute the testing accuracy\n",
        "    prediction = SVC_pipeline.predict(X_test)\n",
        "    preds[category] = prediction\n",
        "    accuracy = accuracy_score(df_test_splitted[category], prediction)\n",
        "\n",
        "    # compute auc\n",
        "    probas_ = SVC_pipeline.predict_proba(X_test)\n",
        "    fpr, tpr, thresholds = roc_curve(df_test_splitted[category], probas_[:, 1])\n",
        "    roc_auc = auc(fpr, tpr)\n",
        "    print(\"Accuracy : {} . Area under the ROC curve : {}\".format(round(accuracy, 4), round(roc_auc, 4)))\n",
        "    print()"
      ],
      "metadata": {
        "colab": {
          "base_uri": "https://localhost:8080/"
        },
        "id": "wclT8YQrCq2J",
        "outputId": "900f00dd-6726-4b12-f0b6-d60ea9b7ce4d"
      },
      "execution_count": 15,
      "outputs": [
        {
          "output_type": "stream",
          "name": "stdout",
          "text": [
            "... Processing Arama Ekipmani\n",
            "Accuracy : 0.9639 . Area under the ROC curve : 0.944\n",
            "\n",
            "... Processing Barınma\n",
            "Accuracy : 0.958 . Area under the ROC curve : 0.9875\n",
            "\n",
            "... Processing Cenaze\n",
            "Accuracy : 0.9983 . Area under the ROC curve : 0.7854\n",
            "\n",
            "... Processing Elektrik Kaynagi\n",
            "Accuracy : 0.9815 . Area under the ROC curve : 0.909\n",
            "\n",
            "... Processing Enkaz Kaldirma\n",
            "Accuracy : 0.9412 . Area under the ROC curve : 0.9897\n",
            "\n",
            "... Processing Giysi\n",
            "Accuracy : 0.9798 . Area under the ROC curve : 0.9837\n",
            "\n",
            "... Processing Isinma\n",
            "Accuracy : 0.9647 . Area under the ROC curve : 0.9691\n",
            "\n",
            "... Processing Lojistik\n",
            "Accuracy : 0.9832 . Area under the ROC curve : 0.9368\n",
            "\n",
            "... Processing Saglik\n",
            "Accuracy : 0.9639 . Area under the ROC curve : 0.9686\n",
            "\n",
            "... Processing Su\n",
            "Accuracy : 0.9866 . Area under the ROC curve : 0.9458\n",
            "\n",
            "... Processing Tuvalet\n",
            "Accuracy : 0.9992 . Area under the ROC curve : 0.9641\n",
            "\n",
            "... Processing Yemek\n",
            "Accuracy : 0.9756 . Area under the ROC curve : 0.9827\n",
            "\n"
          ]
        }
      ]
    },
    {
      "cell_type": "markdown",
      "source": [
        "### Prediction"
      ],
      "metadata": {
        "id": "vO9UdtcOCux4"
      }
    },
    {
      "cell_type": "code",
      "source": [
        "# predict tags for 20 image_urls\n",
        "for i in range(0, 20):\n",
        "    # print(df_test_splitted.image_url.iloc[i])\n",
        "    print('Tweet number: ', i)\n",
        "    predict_tags(df_test_splitted['image_url'].iloc[i], models, labels=df_test_splitted.iloc[i, 5:])\n",
        "    print()"
      ],
      "metadata": {
        "id": "iGhJE1NRCxR1",
        "colab": {
          "base_uri": "https://localhost:8080/"
        },
        "outputId": "baaaf82c-705a-4ca2-8881-79eb1b13313a"
      },
      "execution_count": 16,
      "outputs": [
        {
          "output_type": "stream",
          "name": "stdout",
          "text": [
            "Tweet number:  0\n",
            "Original Tags: ['Enkaz Kaldirma']\n",
            "Predicted Tags: ['Enkaz Kaldirma']\n",
            "\n",
            "Tweet number:  1\n",
            "Original Tags: ['Barınma', 'Isinma', 'Yemek']\n",
            "Predicted Tags: ['Barınma', 'Isinma', 'Lojistik', 'Yemek']\n",
            "\n",
            "Tweet number:  2\n",
            "Original Tags: ['Enkaz Kaldirma']\n",
            "Predicted Tags: ['Enkaz Kaldirma']\n",
            "\n",
            "Tweet number:  3\n",
            "Original Tags: ['Barınma', 'Giysi', 'Su', 'Yemek']\n",
            "Predicted Tags: ['Barınma', 'Giysi', 'Su']\n",
            "\n",
            "Tweet number:  4\n",
            "Original Tags: ['Arama Ekipmani', 'Enkaz Kaldirma']\n",
            "Predicted Tags: ['Enkaz Kaldirma']\n",
            "\n",
            "Tweet number:  5\n",
            "Original Tags: ['Arama Ekipmani', 'Enkaz Kaldirma']\n",
            "Predicted Tags: ['Enkaz Kaldirma']\n",
            "\n",
            "Tweet number:  6\n",
            "Original Tags: ['Enkaz Kaldirma']\n",
            "Predicted Tags: ['Enkaz Kaldirma']\n",
            "\n",
            "Tweet number:  7\n",
            "Original Tags: ['Arama Ekipmani', 'Enkaz Kaldirma']\n",
            "Predicted Tags: ['Enkaz Kaldirma']\n",
            "\n",
            "Tweet number:  8\n",
            "Original Tags: ['Barınma', 'Elektrik Kaynagi', 'Saglik']\n",
            "Predicted Tags: ['Elektrik Kaynagi']\n",
            "\n",
            "Tweet number:  9\n",
            "Original Tags: ['Arama Ekipmani', 'Enkaz Kaldirma']\n",
            "Predicted Tags: ['Arama Ekipmani', 'Enkaz Kaldirma']\n",
            "\n",
            "Tweet number:  10\n",
            "Original Tags: ['Barınma', 'Isinma']\n",
            "Predicted Tags: ['Barınma', 'Isinma']\n",
            "\n",
            "Tweet number:  11\n",
            "Original Tags: ['Enkaz Kaldirma']\n",
            "Predicted Tags: ['Enkaz Kaldirma']\n",
            "\n",
            "Tweet number:  12\n",
            "Original Tags: ['Enkaz Kaldirma']\n",
            "Predicted Tags: ['Enkaz Kaldirma']\n",
            "\n",
            "Tweet number:  13\n",
            "Original Tags: ['Enkaz Kaldirma']\n",
            "Predicted Tags: ['Enkaz Kaldirma']\n",
            "\n",
            "Tweet number:  14\n",
            "Original Tags: ['Enkaz Kaldirma']\n",
            "Predicted Tags: ['Enkaz Kaldirma']\n",
            "\n",
            "Tweet number:  15\n",
            "Original Tags: ['Enkaz Kaldirma']\n",
            "Predicted Tags: ['Enkaz Kaldirma']\n",
            "\n",
            "Tweet number:  16\n",
            "Original Tags: ['Enkaz Kaldirma']\n",
            "Predicted Tags: ['Enkaz Kaldirma']\n",
            "\n",
            "Tweet number:  17\n",
            "Original Tags: ['Barınma', 'Giysi', 'Tuvalet']\n",
            "Predicted Tags: ['Arama Ekipmani', 'Barınma', 'Giysi', 'Tuvalet']\n",
            "\n",
            "Tweet number:  18\n",
            "Original Tags: ['Enkaz Kaldirma']\n",
            "Predicted Tags: ['Enkaz Kaldirma', 'Lojistik']\n",
            "\n",
            "Tweet number:  19\n",
            "Original Tags: ['Arama Ekipmani', 'Enkaz Kaldirma']\n",
            "Predicted Tags: ['Arama Ekipmani', 'Enkaz Kaldirma']\n",
            "\n"
          ]
        }
      ]
    },
    {
      "cell_type": "code",
      "source": [
        "# get all predictions\n",
        "y_pred = np.array(predict_tags(df_test_splitted.image_url, models)).T\n",
        "# get true labels in the same order\n",
        "y_true = df_test_splitted[list(models.keys())].to_numpy()\n",
        "print(y_pred.shape)"
      ],
      "metadata": {
        "id": "FmasDUb4Cy6H",
        "colab": {
          "base_uri": "https://localhost:8080/"
        },
        "outputId": "713dce85-4895-450c-dbee-cc0863eb65e0"
      },
      "execution_count": 17,
      "outputs": [
        {
          "output_type": "stream",
          "name": "stdout",
          "text": [
            "(1190, 12)\n"
          ]
        }
      ]
    },
    {
      "cell_type": "code",
      "source": [
        "# Scores\n",
        "hamming_loss_v = hamming_loss(y_true, y_pred) # fraction of labels assgined incorrectly. the lower the better\n",
        "acc_ = accuracy_score(y_true, y_pred)\n",
        "mean_score, list_score = hamming_score(y_true, y_pred)\n",
        "\n",
        "print('hamming_loss: ', hamming_loss_v)\n",
        "print('Accuracy: ', acc_)\n",
        "print('mean scroe: ', mean_score)"
      ],
      "metadata": {
        "id": "TeiI4hLgC1eY",
        "colab": {
          "base_uri": "https://localhost:8080/"
        },
        "outputId": "8df788cf-b251-4868-c0b3-d011fbd280c1"
      },
      "execution_count": 18,
      "outputs": [
        {
          "output_type": "stream",
          "name": "stdout",
          "text": [
            "hamming_loss:  0.02535014005602241\n",
            "Accuracy:  0.7798319327731092\n",
            "mean scroe:  0.8761424569827931\n"
          ]
        }
      ]
    },
    {
      "cell_type": "code",
      "source": [
        "# Classification Report\n",
        "print(classification_report(y_true, y_pred, target_names=list(categories)))"
      ],
      "metadata": {
        "id": "60gbhuXGC-kV",
        "colab": {
          "base_uri": "https://localhost:8080/"
        },
        "outputId": "6b9db232-a41a-44c7-908a-494849c51b48"
      },
      "execution_count": 19,
      "outputs": [
        {
          "output_type": "stream",
          "name": "stdout",
          "text": [
            "                  precision    recall  f1-score   support\n",
            "\n",
            "  Arama Ekipmani       0.86      0.58      0.69        83\n",
            "         Barınma       0.93      0.93      0.93       362\n",
            "          Cenaze       0.00      0.00      0.00         2\n",
            "Elektrik Kaynagi       0.80      0.73      0.77        49\n",
            "  Enkaz Kaldirma       0.91      0.99      0.95       643\n",
            "           Giysi       0.94      0.85      0.89       118\n",
            "          Isinma       0.88      0.79      0.83       134\n",
            "        Lojistik       0.70      0.50      0.58        28\n",
            "          Saglik       0.87      0.60      0.71        88\n",
            "              Su       0.89      0.72      0.79        43\n",
            "         Tuvalet       1.00      0.86      0.92         7\n",
            "           Yemek       0.94      0.88      0.91       161\n",
            "\n",
            "       micro avg       0.91      0.88      0.89      1718\n",
            "       macro avg       0.81      0.70      0.75      1718\n",
            "    weighted avg       0.90      0.88      0.89      1718\n",
            "     samples avg       0.92      0.91      0.90      1718\n",
            "\n"
          ]
        }
      ]
    },
    {
      "cell_type": "markdown",
      "source": [
        "### Control"
      ],
      "metadata": {
        "id": "ugEkxy54R5fp"
      }
    },
    {
      "cell_type": "code",
      "source": [
        "mask = df_test_splitted.label.apply(lambda x: 'Giysi' in x)\n",
        "print('Giysi:', len(df_test_splitted[mask]))\n",
        "\n",
        "mask = df_test_splitted.label.apply(lambda x: 'Cenaze' in x)\n",
        "print('Cenaze:', len(df_test_splitted[mask]))\n",
        "\n",
        "mask = df_test_splitted.label.apply(lambda x: 'Arama Ekipmani' in x)\n",
        "print('Arama Ekipmani:', len(df_test_splitted[mask]))\n",
        "\n",
        "mask = df_test_splitted.label.apply(lambda x: 'Barınma' in x)\n",
        "print('Barınma:', len(df_test_splitted[mask]))"
      ],
      "metadata": {
        "colab": {
          "base_uri": "https://localhost:8080/"
        },
        "id": "MYf6cu2fR60G",
        "outputId": "b39e399a-6264-448c-a151-060a9f5272f5"
      },
      "execution_count": 20,
      "outputs": [
        {
          "output_type": "stream",
          "name": "stdout",
          "text": [
            "Giysi: 118\n",
            "Cenaze: 2\n",
            "Arama Ekipmani: 83\n",
            "Barınma: 362\n"
          ]
        }
      ]
    },
    {
      "cell_type": "markdown",
      "source": [
        "## Test Different Models"
      ],
      "metadata": {
        "id": "sF1nrQeIninV"
      }
    },
    {
      "cell_type": "code",
      "source": [
        "def model_results(categories, classifier, X_train, df_train_splitted, df_test_splitted):\n",
        "  # for each category train the model and get accuracy, auc\n",
        "  models = {}\n",
        "  features = {}\n",
        "  preds = {}\n",
        "  for category in categories:\n",
        "      # give pipelines unique names.\n",
        "      SVC_pipeline = Pipeline([\n",
        "          (f'tfidf_{category}', TfidfVectorizer()),\n",
        "          (f'clf_{category}', OneVsRestClassifier(classifier, n_jobs=1)),\n",
        "      ])\n",
        "      print('... Processing {}'.format(category))\n",
        "\n",
        "      # train the model using X_dtm & y\n",
        "      SVC_pipeline.fit(X_train, df_train_splitted[category])\n",
        "      models[category] = SVC_pipeline\n",
        "\n",
        "  # get all predictions\n",
        "  y_pred = np.array(predict_tags(df_test_splitted.image_url, models)).T\n",
        "  # get true labels in the same order\n",
        "  y_true = df_test_splitted[list(models.keys())].to_numpy()\n",
        "\n",
        "  # Classification Report\n",
        "  print(classification_report(y_true, y_pred, target_names=list(categories)))\n"
      ],
      "metadata": {
        "id": "FTqRb_PisyAV"
      },
      "execution_count": 21,
      "outputs": []
    },
    {
      "cell_type": "code",
      "source": [
        "# classifier = CalibratedClassifierCV(LinearSVC())\n",
        "# classifier = CalibratedClassifierCV(DecisionTreeClassifier(max_depth=10))\n",
        "# classifier = CalibratedClassifierCV(xgb.XGBClassifier(scale_pos_weight=50, random_state=42))\n",
        "# classifier = CalibratedClassifierCV(xgb.XGBClassifier(scale_pos_weight=75, learning_rate=0.02, gamma=3, max_depth=8))\n",
        "# classifier = CalibratedClassifierCV(xgb.XGBClassifier(scale_pos_weight=100))\n",
        "# classifier = CalibratedClassifierCV(xgb.XGBClassifier(scale_pos_weight=25))"
      ],
      "metadata": {
        "id": "x4ht1txqnwpj"
      },
      "execution_count": 22,
      "outputs": []
    },
    {
      "cell_type": "code",
      "source": [
        "classifier = CalibratedClassifierCV(xgb.XGBClassifier(scale_pos_weight=1.5, random_state=42, eval_metric='mlogloss'))\n",
        "model_results(categories, classifier, X_train, df_train_splitted, df_test_splitted)"
      ],
      "metadata": {
        "colab": {
          "base_uri": "https://localhost:8080/"
        },
        "id": "tZK8MLM_n6ii",
        "outputId": "7de2aef9-80bd-4bd4-de8b-37f077d47cc3"
      },
      "execution_count": 26,
      "outputs": [
        {
          "output_type": "stream",
          "name": "stdout",
          "text": [
            "... Processing Arama Ekipmani\n",
            "... Processing Barınma\n",
            "... Processing Cenaze\n",
            "... Processing Elektrik Kaynagi\n",
            "... Processing Enkaz Kaldirma\n",
            "... Processing Giysi\n",
            "... Processing Isinma\n",
            "... Processing Lojistik\n",
            "... Processing Saglik\n",
            "... Processing Su\n",
            "... Processing Tuvalet\n",
            "... Processing Yemek\n",
            "                  precision    recall  f1-score   support\n",
            "\n",
            "  Arama Ekipmani       0.92      0.53      0.67        83\n",
            "         Barınma       0.97      0.91      0.94       362\n",
            "          Cenaze       0.00      0.00      0.00         2\n",
            "Elektrik Kaynagi       0.85      0.69      0.76        49\n",
            "  Enkaz Kaldirma       0.95      0.99      0.97       643\n",
            "           Giysi       0.94      0.76      0.84       118\n",
            "          Isinma       0.94      0.77      0.84       134\n",
            "        Lojistik       0.92      0.43      0.59        28\n",
            "          Saglik       0.93      0.57      0.70        88\n",
            "              Su       0.93      0.65      0.77        43\n",
            "         Tuvalet       1.00      0.71      0.83         7\n",
            "           Yemek       0.96      0.86      0.90       161\n",
            "\n",
            "       micro avg       0.95      0.85      0.90      1718\n",
            "       macro avg       0.86      0.66      0.74      1718\n",
            "    weighted avg       0.95      0.85      0.89      1718\n",
            "     samples avg       0.92      0.89      0.90      1718\n",
            "\n"
          ]
        }
      ]
    },
    {
      "cell_type": "code",
      "source": [
        "classifier = CalibratedClassifierCV(LinearSVC())\n",
        "model_results(categories, classifier, X_train, df_train_splitted, df_test_splitted)"
      ],
      "metadata": {
        "id": "P1V2ciQ8oJ1a",
        "colab": {
          "base_uri": "https://localhost:8080/"
        },
        "outputId": "807d66c0-7f90-4219-8d96-9d095331eec2"
      },
      "execution_count": 24,
      "outputs": [
        {
          "output_type": "stream",
          "name": "stdout",
          "text": [
            "... Processing Arama Ekipmani\n",
            "... Processing Barınma\n",
            "... Processing Cenaze\n",
            "... Processing Elektrik Kaynagi\n",
            "... Processing Enkaz Kaldirma\n",
            "... Processing Giysi\n",
            "... Processing Isinma\n",
            "... Processing Lojistik\n",
            "... Processing Saglik\n",
            "... Processing Su\n",
            "... Processing Tuvalet\n",
            "... Processing Yemek\n",
            "                  precision    recall  f1-score   support\n",
            "\n",
            "  Arama Ekipmani       0.86      0.58      0.69        83\n",
            "         Barınma       0.94      0.91      0.93       362\n",
            "          Cenaze       0.00      0.00      0.00         2\n",
            "Elektrik Kaynagi       0.80      0.73      0.77        49\n",
            "  Enkaz Kaldirma       0.96      0.98      0.97       643\n",
            "           Giysi       0.93      0.83      0.88       118\n",
            "          Isinma       0.89      0.79      0.84       134\n",
            "        Lojistik       0.71      0.61      0.65        28\n",
            "          Saglik       0.92      0.76      0.83        88\n",
            "              Su       0.84      0.72      0.77        43\n",
            "         Tuvalet       1.00      0.86      0.92         7\n",
            "           Yemek       0.96      0.89      0.93       161\n",
            "\n",
            "       micro avg       0.93      0.88      0.91      1718\n",
            "       macro avg       0.82      0.72      0.77      1718\n",
            "    weighted avg       0.93      0.88      0.90      1718\n",
            "     samples avg       0.93      0.91      0.91      1718\n",
            "\n"
          ]
        }
      ]
    },
    {
      "cell_type": "code",
      "source": [
        "classifier = CalibratedClassifierCV(xgb.XGBClassifier(scale_pos_weight=100, random_state=42, eval_metric='mlogloss'))\n",
        "model_results(categories, classifier, X_train, df_train_splitted, df_test_splitted)"
      ],
      "metadata": {
        "id": "rWZdxc1JoPBU",
        "colab": {
          "base_uri": "https://localhost:8080/"
        },
        "outputId": "d796c7bc-3c36-4e33-89fe-68eda95b5b93"
      },
      "execution_count": 25,
      "outputs": [
        {
          "output_type": "stream",
          "name": "stdout",
          "text": [
            "... Processing Arama Ekipmani\n",
            "... Processing Barınma\n",
            "... Processing Cenaze\n",
            "... Processing Elektrik Kaynagi\n",
            "... Processing Enkaz Kaldirma\n",
            "... Processing Giysi\n",
            "... Processing Isinma\n",
            "... Processing Lojistik\n",
            "... Processing Saglik\n",
            "... Processing Su\n",
            "... Processing Tuvalet\n",
            "... Processing Yemek\n",
            "                  precision    recall  f1-score   support\n",
            "\n",
            "  Arama Ekipmani       0.87      0.63      0.73        83\n",
            "         Barınma       0.91      0.93      0.92       362\n",
            "          Cenaze       0.00      0.00      0.00         2\n",
            "Elektrik Kaynagi       0.84      0.76      0.80        49\n",
            "  Enkaz Kaldirma       0.90      0.99      0.94       643\n",
            "           Giysi       0.92      0.82      0.87       118\n",
            "          Isinma       0.91      0.75      0.82       134\n",
            "        Lojistik       0.78      0.50      0.61        28\n",
            "          Saglik       0.85      0.53      0.66        88\n",
            "              Su       0.88      0.70      0.78        43\n",
            "         Tuvalet       1.00      0.86      0.92         7\n",
            "           Yemek       0.93      0.88      0.90       161\n",
            "\n",
            "       micro avg       0.90      0.87      0.89      1718\n",
            "       macro avg       0.82      0.69      0.75      1718\n",
            "    weighted avg       0.90      0.87      0.88      1718\n",
            "     samples avg       0.91      0.91      0.90      1718\n",
            "\n"
          ]
        }
      ]
    }
  ]
}